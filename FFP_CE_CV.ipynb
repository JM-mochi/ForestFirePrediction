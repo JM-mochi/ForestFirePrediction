{
  "nbformat": 4,
  "nbformat_minor": 0,
  "metadata": {
    "colab": {
      "provenance": [],
      "gpuType": "T4",
      "mount_file_id": "1w8Y1_PaUYeE1LIwZ83ZxsgRPd5_iRydk",
      "authorship_tag": "ABX9TyNIwl2Z6zJ52hTAFsWY0P7K",
      "include_colab_link": true
    },
    "kernelspec": {
      "name": "python3",
      "display_name": "Python 3"
    },
    "language_info": {
      "name": "python"
    },
    "widgets": {
      "application/vnd.jupyter.widget-state+json": {
        "c73af31788e74ec587bcaea3b06477be": {
          "model_module": "jupyter-leaflet",
          "model_name": "LeafletMapModel",
          "model_module_version": "^0.18",
          "state": {
            "_dom_classes": [],
            "_model_module": "jupyter-leaflet",
            "_model_module_version": "^0.18",
            "_model_name": "LeafletMapModel",
            "_view_count": null,
            "_view_module": "jupyter-leaflet",
            "_view_module_version": "^0.18",
            "_view_name": "LeafletMapView",
            "bottom": 12789,
            "bounce_at_zoom_limits": true,
            "box_zoom": true,
            "center": [
              39.28828944786243,
              -121.44241540509672
            ],
            "close_popup_on_click": true,
            "controls": [
              "IPY_MODEL_1305c78f839141f9bebda00d54a5fa10",
              "IPY_MODEL_1f237267965446ecb9ea5d0b894e3e65",
              "IPY_MODEL_f25c6ea9d4294ae5b771ae63ee053886",
              "IPY_MODEL_459f783af8ef4f69b69eec571f3253a9",
              "IPY_MODEL_6ee23176a7c24d0bbf9d0eac801bf2e4",
              "IPY_MODEL_18e07961cad2420e9a65514c91400296",
              "IPY_MODEL_aeaf843bd258448297eaba1eb6aacbfc",
              "IPY_MODEL_409faff0e9084538877ba28cbd6b7158"
            ],
            "crs": {
              "name": "EPSG3857",
              "custom": false
            },
            "default_style": "IPY_MODEL_a06a64fa57864ad4b19e376526c08730",
            "double_click_zoom": true,
            "dragging": true,
            "dragging_style": "IPY_MODEL_fafbe1a58f8e491abf4f13712ccac5eb",
            "east": -116.29028320312501,
            "fullscreen": false,
            "inertia": true,
            "inertia_deceleration": 3000,
            "inertia_max_speed": 1500,
            "interpolation": "bilinear",
            "keyboard": true,
            "keyboard_pan_offset": 80,
            "keyboard_zoom_offset": 1,
            "layers": [
              "IPY_MODEL_f661e9bc05ef489899e73e842f3c12ec",
              "IPY_MODEL_d2c0a5ebfc5e4fe98dce8c5bd02bded5",
              "IPY_MODEL_03127c35a9534580b84bb44c1853c8a8",
              "IPY_MODEL_29fc174827f14999b58242dd8770524e"
            ],
            "layout": "IPY_MODEL_84bf98d8a8d44a7691bc2b62e89f9a08",
            "left": 4861,
            "max_zoom": 24,
            "min_zoom": null,
            "modisdate": "2024-06-30",
            "north": 41.795888098191426,
            "options": [
              "bounce_at_zoom_limits",
              "box_zoom",
              "center",
              "close_popup_on_click",
              "double_click_zoom",
              "dragging",
              "fullscreen",
              "inertia",
              "inertia_deceleration",
              "inertia_max_speed",
              "interpolation",
              "keyboard",
              "keyboard_pan_offset",
              "keyboard_zoom_offset",
              "max_zoom",
              "min_zoom",
              "prefer_canvas",
              "scroll_wheel_zoom",
              "tap",
              "tap_tolerance",
              "touch_zoom",
              "world_copy_jump",
              "zoom",
              "zoom_animation_threshold",
              "zoom_delta",
              "zoom_snap"
            ],
            "panes": {},
            "prefer_canvas": false,
            "right": 5799,
            "scroll_wheel_zoom": true,
            "south": 36.69485094156225,
            "style": "IPY_MODEL_a06a64fa57864ad4b19e376526c08730",
            "tap": true,
            "tap_tolerance": 15,
            "top": 12189,
            "touch_zoom": true,
            "west": -126.59545898437501,
            "window_url": "https://7p43luqaaaf-496ff2e9c6d22116-0-colab.googleusercontent.com/outputframe.html?vrz=colab_20240627-060121_RC00_647236509",
            "world_copy_jump": false,
            "zoom": 7,
            "zoom_animation_threshold": 4,
            "zoom_delta": 1,
            "zoom_snap": 1
          }
        },
        "1305c78f839141f9bebda00d54a5fa10": {
          "model_module": "jupyter-leaflet",
          "model_name": "LeafletWidgetControlModel",
          "model_module_version": "^0.18",
          "state": {
            "_model_module": "jupyter-leaflet",
            "_model_module_version": "^0.18",
            "_model_name": "LeafletWidgetControlModel",
            "_view_count": null,
            "_view_module": "jupyter-leaflet",
            "_view_module_version": "^0.18",
            "_view_name": "LeafletWidgetControlView",
            "max_height": null,
            "max_width": null,
            "min_height": null,
            "min_width": null,
            "options": [
              "position",
              "transparent_bg"
            ],
            "position": "topleft",
            "transparent_bg": false,
            "widget": "IPY_MODEL_e5d54ea190dd4c80a06f976b5818ebdd"
          }
        },
        "1f237267965446ecb9ea5d0b894e3e65": {
          "model_module": "jupyter-leaflet",
          "model_name": "LeafletZoomControlModel",
          "model_module_version": "^0.18",
          "state": {
            "_model_module": "jupyter-leaflet",
            "_model_module_version": "^0.18",
            "_model_name": "LeafletZoomControlModel",
            "_view_count": null,
            "_view_module": "jupyter-leaflet",
            "_view_module_version": "^0.18",
            "_view_name": "LeafletZoomControlView",
            "options": [
              "position",
              "zoom_in_text",
              "zoom_in_title",
              "zoom_out_text",
              "zoom_out_title"
            ],
            "position": "topleft",
            "zoom_in_text": "+",
            "zoom_in_title": "Zoom in",
            "zoom_out_text": "-",
            "zoom_out_title": "Zoom out"
          }
        },
        "f25c6ea9d4294ae5b771ae63ee053886": {
          "model_module": "jupyter-leaflet",
          "model_name": "LeafletFullScreenControlModel",
          "model_module_version": "^0.18",
          "state": {
            "_model_module": "jupyter-leaflet",
            "_model_module_version": "^0.18",
            "_model_name": "LeafletFullScreenControlModel",
            "_view_count": null,
            "_view_module": "jupyter-leaflet",
            "_view_module_version": "^0.18",
            "_view_name": "LeafletFullScreenControlView",
            "options": [
              "position"
            ],
            "position": "topleft"
          }
        },
        "459f783af8ef4f69b69eec571f3253a9": {
          "model_module": "jupyter-leaflet",
          "model_name": "LeafletDrawControlModel",
          "model_module_version": "^0.18",
          "state": {
            "_model_module": "jupyter-leaflet",
            "_model_module_version": "^0.18",
            "_model_name": "LeafletDrawControlModel",
            "_view_count": null,
            "_view_module": "jupyter-leaflet",
            "_view_module_version": "^0.18",
            "_view_name": "LeafletDrawControlView",
            "circle": {},
            "circlemarker": {},
            "data": [],
            "edit": true,
            "marker": {
              "shapeOptions": {
                "color": "#3388ff"
              }
            },
            "options": [
              "position"
            ],
            "polygon": {
              "shapeOptions": {}
            },
            "polyline": {
              "shapeOptions": {}
            },
            "position": "topleft",
            "rectangle": {
              "shapeOptions": {
                "color": "#3388ff"
              }
            },
            "remove": true
          }
        },
        "6ee23176a7c24d0bbf9d0eac801bf2e4": {
          "model_module": "jupyter-leaflet",
          "model_name": "LeafletScaleControlModel",
          "model_module_version": "^0.18",
          "state": {
            "_model_module": "jupyter-leaflet",
            "_model_module_version": "^0.18",
            "_model_name": "LeafletScaleControlModel",
            "_view_count": null,
            "_view_module": "jupyter-leaflet",
            "_view_module_version": "^0.18",
            "_view_name": "LeafletScaleControlView",
            "imperial": true,
            "max_width": 100,
            "metric": true,
            "options": [
              "imperial",
              "max_width",
              "metric",
              "position",
              "update_when_idle"
            ],
            "position": "bottomleft",
            "update_when_idle": false
          }
        },
        "18e07961cad2420e9a65514c91400296": {
          "model_module": "jupyter-leaflet",
          "model_name": "LeafletMeasureControlModel",
          "model_module_version": "^0.18",
          "state": {
            "_custom_units": {},
            "_model_module": "jupyter-leaflet",
            "_model_module_version": "^0.18",
            "_model_name": "LeafletMeasureControlModel",
            "_view_count": null,
            "_view_module": "jupyter-leaflet",
            "_view_module_version": "^0.18",
            "_view_name": "LeafletMeasureControlView",
            "active_color": "orange",
            "capture_z_index": 10000,
            "completed_color": "#C8F2BE",
            "options": [
              "active_color",
              "capture_z_index",
              "completed_color",
              "popup_options",
              "position",
              "primary_area_unit",
              "primary_length_unit",
              "secondary_area_unit",
              "secondary_length_unit"
            ],
            "popup_options": {
              "className": "leaflet-measure-resultpopup",
              "autoPanPadding": [
                10,
                10
              ]
            },
            "position": "bottomleft",
            "primary_area_unit": "acres",
            "primary_length_unit": "kilometers",
            "secondary_area_unit": null,
            "secondary_length_unit": null
          }
        },
        "aeaf843bd258448297eaba1eb6aacbfc": {
          "model_module": "jupyter-leaflet",
          "model_name": "LeafletWidgetControlModel",
          "model_module_version": "^0.18",
          "state": {
            "_model_module": "jupyter-leaflet",
            "_model_module_version": "^0.18",
            "_model_name": "LeafletWidgetControlModel",
            "_view_count": null,
            "_view_module": "jupyter-leaflet",
            "_view_module_version": "^0.18",
            "_view_name": "LeafletWidgetControlView",
            "max_height": null,
            "max_width": null,
            "min_height": null,
            "min_width": null,
            "options": [
              "position",
              "transparent_bg"
            ],
            "position": "topright",
            "transparent_bg": false,
            "widget": "IPY_MODEL_a5c92f47b726497f9d8c71aa2a61bcd3"
          }
        },
        "409faff0e9084538877ba28cbd6b7158": {
          "model_module": "jupyter-leaflet",
          "model_name": "LeafletAttributionControlModel",
          "model_module_version": "^0.18",
          "state": {
            "_model_module": "jupyter-leaflet",
            "_model_module_version": "^0.18",
            "_model_name": "LeafletAttributionControlModel",
            "_view_count": null,
            "_view_module": "jupyter-leaflet",
            "_view_module_version": "^0.18",
            "_view_name": "LeafletAttributionControlView",
            "options": [
              "position",
              "prefix"
            ],
            "position": "bottomright",
            "prefix": "ipyleaflet"
          }
        },
        "a06a64fa57864ad4b19e376526c08730": {
          "model_module": "jupyter-leaflet",
          "model_name": "LeafletMapStyleModel",
          "model_module_version": "^0.18",
          "state": {
            "_model_module": "jupyter-leaflet",
            "_model_module_version": "^0.18",
            "_model_name": "LeafletMapStyleModel",
            "_view_count": null,
            "_view_module": "@jupyter-widgets/base",
            "_view_module_version": "1.2.0",
            "_view_name": "StyleView",
            "cursor": "grab"
          }
        },
        "fafbe1a58f8e491abf4f13712ccac5eb": {
          "model_module": "jupyter-leaflet",
          "model_name": "LeafletMapStyleModel",
          "model_module_version": "^0.18",
          "state": {
            "_model_module": "jupyter-leaflet",
            "_model_module_version": "^0.18",
            "_model_name": "LeafletMapStyleModel",
            "_view_count": null,
            "_view_module": "@jupyter-widgets/base",
            "_view_module_version": "1.2.0",
            "_view_name": "StyleView",
            "cursor": "move"
          }
        },
        "f661e9bc05ef489899e73e842f3c12ec": {
          "model_module": "jupyter-leaflet",
          "model_name": "LeafletTileLayerModel",
          "model_module_version": "^0.18",
          "state": {
            "_model_module": "jupyter-leaflet",
            "_model_module_version": "^0.18",
            "_model_name": "LeafletTileLayerModel",
            "_view_count": null,
            "_view_module": "jupyter-leaflet",
            "_view_module_version": "^0.18",
            "_view_name": "LeafletTileLayerView",
            "attribution": "&copy; <a href=\"https://www.openstreetmap.org/copyright\">OpenStreetMap</a> contributors",
            "base": true,
            "bottom": true,
            "bounds": null,
            "detect_retina": false,
            "loading": false,
            "max_native_zoom": null,
            "max_zoom": 19,
            "min_native_zoom": null,
            "min_zoom": 1,
            "name": "OpenStreetMap.Mapnik",
            "no_wrap": false,
            "opacity": 1,
            "options": [
              "attribution",
              "bounds",
              "detect_retina",
              "max_native_zoom",
              "max_zoom",
              "min_native_zoom",
              "min_zoom",
              "no_wrap",
              "tile_size",
              "tms",
              "zoom_offset"
            ],
            "pane": "",
            "popup": null,
            "popup_max_height": null,
            "popup_max_width": 300,
            "popup_min_width": 50,
            "show_loading": false,
            "subitems": [],
            "tile_size": 256,
            "tms": false,
            "url": "https://tile.openstreetmap.org/{z}/{x}/{y}.png",
            "visible": true,
            "zoom_offset": 0
          }
        },
        "d2c0a5ebfc5e4fe98dce8c5bd02bded5": {
          "model_module": "jupyter-leaflet",
          "model_name": "LeafletTileLayerModel",
          "model_module_version": "^0.18",
          "state": {
            "_model_module": "jupyter-leaflet",
            "_model_module_version": "^0.18",
            "_model_name": "LeafletTileLayerModel",
            "_view_count": null,
            "_view_module": "jupyter-leaflet",
            "_view_module_version": "^0.18",
            "_view_name": "LeafletTileLayerView",
            "attribution": "Google Earth Engine",
            "base": false,
            "bottom": true,
            "bounds": null,
            "detect_retina": false,
            "loading": false,
            "max_native_zoom": null,
            "max_zoom": 24,
            "min_native_zoom": null,
            "min_zoom": 0,
            "name": "Burned Area",
            "no_wrap": false,
            "opacity": 1,
            "options": [
              "attribution",
              "bounds",
              "detect_retina",
              "max_native_zoom",
              "max_zoom",
              "min_native_zoom",
              "min_zoom",
              "no_wrap",
              "tile_size",
              "tms",
              "zoom_offset"
            ],
            "pane": "",
            "popup": null,
            "popup_max_height": null,
            "popup_max_width": 300,
            "popup_min_width": 50,
            "show_loading": false,
            "subitems": [],
            "tile_size": 256,
            "tms": false,
            "url": "https://earthengine.googleapis.com/v1/projects/august-boulder-424715-s1/maps/80b7a5c2a841dc181663185ad65836d3-4a31476632329b2c9dfce6af0282375b/tiles/{z}/{x}/{y}",
            "visible": true,
            "zoom_offset": 0
          }
        },
        "03127c35a9534580b84bb44c1853c8a8": {
          "model_module": "jupyter-leaflet",
          "model_name": "LeafletTileLayerModel",
          "model_module_version": "^0.18",
          "state": {
            "_model_module": "jupyter-leaflet",
            "_model_module_version": "^0.18",
            "_model_name": "LeafletTileLayerModel",
            "_view_count": null,
            "_view_module": "jupyter-leaflet",
            "_view_module_version": "^0.18",
            "_view_name": "LeafletTileLayerView",
            "attribution": "Google Earth Engine",
            "base": false,
            "bottom": true,
            "bounds": null,
            "detect_retina": false,
            "loading": false,
            "max_native_zoom": null,
            "max_zoom": 24,
            "min_native_zoom": null,
            "min_zoom": 0,
            "name": "Layer 2",
            "no_wrap": false,
            "opacity": 1,
            "options": [
              "attribution",
              "bounds",
              "detect_retina",
              "max_native_zoom",
              "max_zoom",
              "min_native_zoom",
              "min_zoom",
              "no_wrap",
              "tile_size",
              "tms",
              "zoom_offset"
            ],
            "pane": "",
            "popup": null,
            "popup_max_height": null,
            "popup_max_width": 300,
            "popup_min_width": 50,
            "show_loading": false,
            "subitems": [],
            "tile_size": 256,
            "tms": false,
            "url": "https://earthengine.googleapis.com/v1/projects/august-boulder-424715-s1/maps/46c25b0599ef84d30b110bd5ecbe1b12-f38e9e53b35c313e40a76654f69bc605/tiles/{z}/{x}/{y}",
            "visible": true,
            "zoom_offset": 0
          }
        },
        "29fc174827f14999b58242dd8770524e": {
          "model_module": "jupyter-leaflet",
          "model_name": "LeafletTileLayerModel",
          "model_module_version": "^0.18",
          "state": {
            "_model_module": "jupyter-leaflet",
            "_model_module_version": "^0.18",
            "_model_name": "LeafletTileLayerModel",
            "_view_count": null,
            "_view_module": "jupyter-leaflet",
            "_view_module_version": "^0.18",
            "_view_name": "LeafletTileLayerView",
            "attribution": "Google Earth Engine",
            "base": false,
            "bottom": true,
            "bounds": null,
            "detect_retina": false,
            "loading": false,
            "max_native_zoom": null,
            "max_zoom": 24,
            "min_native_zoom": null,
            "min_zoom": 0,
            "name": "Layer 3",
            "no_wrap": false,
            "opacity": 1,
            "options": [
              "attribution",
              "bounds",
              "detect_retina",
              "max_native_zoom",
              "max_zoom",
              "min_native_zoom",
              "min_zoom",
              "no_wrap",
              "tile_size",
              "tms",
              "zoom_offset"
            ],
            "pane": "",
            "popup": null,
            "popup_max_height": null,
            "popup_max_width": 300,
            "popup_min_width": 50,
            "show_loading": false,
            "subitems": [],
            "tile_size": 256,
            "tms": false,
            "url": "https://earthengine.googleapis.com/v1/projects/august-boulder-424715-s1/maps/5b2310867462883926f78e45165e9843-9b8bbe1fe612f3adbac8185fbe26b523/tiles/{z}/{x}/{y}",
            "visible": true,
            "zoom_offset": 0
          }
        },
        "84bf98d8a8d44a7691bc2b62e89f9a08": {
          "model_module": "@jupyter-widgets/base",
          "model_name": "LayoutModel",
          "model_module_version": "1.2.0",
          "state": {
            "_model_module": "@jupyter-widgets/base",
            "_model_module_version": "1.2.0",
            "_model_name": "LayoutModel",
            "_view_count": null,
            "_view_module": "@jupyter-widgets/base",
            "_view_module_version": "1.2.0",
            "_view_name": "LayoutView",
            "align_content": null,
            "align_items": null,
            "align_self": null,
            "border": null,
            "bottom": null,
            "display": null,
            "flex": null,
            "flex_flow": null,
            "grid_area": null,
            "grid_auto_columns": null,
            "grid_auto_flow": null,
            "grid_auto_rows": null,
            "grid_column": null,
            "grid_gap": null,
            "grid_row": null,
            "grid_template_areas": null,
            "grid_template_columns": null,
            "grid_template_rows": null,
            "height": "600px",
            "justify_content": null,
            "justify_items": null,
            "left": null,
            "margin": null,
            "max_height": null,
            "max_width": null,
            "min_height": null,
            "min_width": null,
            "object_fit": null,
            "object_position": null,
            "order": null,
            "overflow": null,
            "overflow_x": null,
            "overflow_y": null,
            "padding": null,
            "right": null,
            "top": null,
            "visibility": null,
            "width": null
          }
        },
        "396112541ef34947b5b2bac9f8ae682e": {
          "model_module": "jupyter-leaflet",
          "model_name": "LeafletMapStyleModel",
          "model_module_version": "^0.18",
          "state": {
            "_model_module": "jupyter-leaflet",
            "_model_module_version": "^0.18",
            "_model_name": "LeafletMapStyleModel",
            "_view_count": null,
            "_view_module": "@jupyter-widgets/base",
            "_view_module_version": "1.2.0",
            "_view_name": "StyleView",
            "cursor": "grab"
          }
        },
        "e5d54ea190dd4c80a06f976b5818ebdd": {
          "model_module": "@jupyter-widgets/controls",
          "model_name": "HBoxModel",
          "model_module_version": "1.5.0",
          "state": {
            "_dom_classes": [
              "geemap-colab"
            ],
            "_model_module": "@jupyter-widgets/controls",
            "_model_module_version": "1.5.0",
            "_model_name": "HBoxModel",
            "_view_count": null,
            "_view_module": "@jupyter-widgets/controls",
            "_view_module_version": "1.5.0",
            "_view_name": "HBoxView",
            "box_style": "",
            "children": [
              "IPY_MODEL_846248351de54757b793f6fa3b4c0564"
            ],
            "layout": "IPY_MODEL_9cfd404448ac421592060affba98180c"
          }
        },
        "a5c92f47b726497f9d8c71aa2a61bcd3": {
          "model_module": "@jupyter-widgets/controls",
          "model_name": "VBoxModel",
          "model_module_version": "1.5.0",
          "state": {
            "_dom_classes": [
              "geemap-colab"
            ],
            "_model_module": "@jupyter-widgets/controls",
            "_model_module_version": "1.5.0",
            "_model_name": "VBoxModel",
            "_view_count": null,
            "_view_module": "@jupyter-widgets/controls",
            "_view_module_version": "1.5.0",
            "_view_name": "VBoxView",
            "box_style": "",
            "children": [
              "IPY_MODEL_fa2563c1edf144b1a1ee8a7d52083ff3"
            ],
            "layout": "IPY_MODEL_307999a641194c45acc60a46069bc51a"
          }
        },
        "846248351de54757b793f6fa3b4c0564": {
          "model_module": "@jupyter-widgets/controls",
          "model_name": "ToggleButtonModel",
          "model_module_version": "1.5.0",
          "state": {
            "_dom_classes": [],
            "_model_module": "@jupyter-widgets/controls",
            "_model_module_version": "1.5.0",
            "_model_name": "ToggleButtonModel",
            "_view_count": null,
            "_view_module": "@jupyter-widgets/controls",
            "_view_module_version": "1.5.0",
            "_view_name": "ToggleButtonView",
            "button_style": "",
            "description": "",
            "description_tooltip": null,
            "disabled": false,
            "icon": "globe",
            "layout": "IPY_MODEL_02b7fb0144ed438e90cb52289240b55d",
            "style": "IPY_MODEL_3705976ba8794bc2ad4d1573da5d0e97",
            "tooltip": "Search location/data",
            "value": false
          }
        },
        "9cfd404448ac421592060affba98180c": {
          "model_module": "@jupyter-widgets/base",
          "model_name": "LayoutModel",
          "model_module_version": "1.2.0",
          "state": {
            "_model_module": "@jupyter-widgets/base",
            "_model_module_version": "1.2.0",
            "_model_name": "LayoutModel",
            "_view_count": null,
            "_view_module": "@jupyter-widgets/base",
            "_view_module_version": "1.2.0",
            "_view_name": "LayoutView",
            "align_content": null,
            "align_items": null,
            "align_self": null,
            "border": null,
            "bottom": null,
            "display": null,
            "flex": null,
            "flex_flow": null,
            "grid_area": null,
            "grid_auto_columns": null,
            "grid_auto_flow": null,
            "grid_auto_rows": null,
            "grid_column": null,
            "grid_gap": null,
            "grid_row": null,
            "grid_template_areas": null,
            "grid_template_columns": null,
            "grid_template_rows": null,
            "height": null,
            "justify_content": null,
            "justify_items": null,
            "left": null,
            "margin": null,
            "max_height": null,
            "max_width": null,
            "min_height": null,
            "min_width": null,
            "object_fit": null,
            "object_position": null,
            "order": null,
            "overflow": null,
            "overflow_x": null,
            "overflow_y": null,
            "padding": null,
            "right": null,
            "top": null,
            "visibility": null,
            "width": null
          }
        },
        "fa2563c1edf144b1a1ee8a7d52083ff3": {
          "model_module": "@jupyter-widgets/controls",
          "model_name": "ToggleButtonModel",
          "model_module_version": "1.5.0",
          "state": {
            "_dom_classes": [],
            "_model_module": "@jupyter-widgets/controls",
            "_model_module_version": "1.5.0",
            "_model_name": "ToggleButtonModel",
            "_view_count": null,
            "_view_module": "@jupyter-widgets/controls",
            "_view_module_version": "1.5.0",
            "_view_name": "ToggleButtonView",
            "button_style": "",
            "description": "",
            "description_tooltip": null,
            "disabled": false,
            "icon": "wrench",
            "layout": "IPY_MODEL_fa23c2119cc643e58166ecaa4c06f483",
            "style": "IPY_MODEL_aef3f3c1317f4c568e77031a55f725b4",
            "tooltip": "Toolbar",
            "value": false
          }
        },
        "307999a641194c45acc60a46069bc51a": {
          "model_module": "@jupyter-widgets/base",
          "model_name": "LayoutModel",
          "model_module_version": "1.2.0",
          "state": {
            "_model_module": "@jupyter-widgets/base",
            "_model_module_version": "1.2.0",
            "_model_name": "LayoutModel",
            "_view_count": null,
            "_view_module": "@jupyter-widgets/base",
            "_view_module_version": "1.2.0",
            "_view_name": "LayoutView",
            "align_content": null,
            "align_items": null,
            "align_self": null,
            "border": null,
            "bottom": null,
            "display": null,
            "flex": null,
            "flex_flow": null,
            "grid_area": null,
            "grid_auto_columns": null,
            "grid_auto_flow": null,
            "grid_auto_rows": null,
            "grid_column": null,
            "grid_gap": null,
            "grid_row": null,
            "grid_template_areas": null,
            "grid_template_columns": null,
            "grid_template_rows": null,
            "height": null,
            "justify_content": null,
            "justify_items": null,
            "left": null,
            "margin": null,
            "max_height": null,
            "max_width": null,
            "min_height": null,
            "min_width": null,
            "object_fit": null,
            "object_position": null,
            "order": null,
            "overflow": null,
            "overflow_x": null,
            "overflow_y": null,
            "padding": null,
            "right": null,
            "top": null,
            "visibility": null,
            "width": null
          }
        },
        "02b7fb0144ed438e90cb52289240b55d": {
          "model_module": "@jupyter-widgets/base",
          "model_name": "LayoutModel",
          "model_module_version": "1.2.0",
          "state": {
            "_model_module": "@jupyter-widgets/base",
            "_model_module_version": "1.2.0",
            "_model_name": "LayoutModel",
            "_view_count": null,
            "_view_module": "@jupyter-widgets/base",
            "_view_module_version": "1.2.0",
            "_view_name": "LayoutView",
            "align_content": null,
            "align_items": null,
            "align_self": null,
            "border": null,
            "bottom": null,
            "display": null,
            "flex": null,
            "flex_flow": null,
            "grid_area": null,
            "grid_auto_columns": null,
            "grid_auto_flow": null,
            "grid_auto_rows": null,
            "grid_column": null,
            "grid_gap": null,
            "grid_row": null,
            "grid_template_areas": null,
            "grid_template_columns": null,
            "grid_template_rows": null,
            "height": "28px",
            "justify_content": null,
            "justify_items": null,
            "left": null,
            "margin": null,
            "max_height": null,
            "max_width": null,
            "min_height": null,
            "min_width": null,
            "object_fit": null,
            "object_position": null,
            "order": null,
            "overflow": null,
            "overflow_x": null,
            "overflow_y": null,
            "padding": "0px 0px 0px 4px",
            "right": null,
            "top": null,
            "visibility": null,
            "width": "28px"
          }
        },
        "3705976ba8794bc2ad4d1573da5d0e97": {
          "model_module": "@jupyter-widgets/controls",
          "model_name": "DescriptionStyleModel",
          "model_module_version": "1.5.0",
          "state": {
            "_model_module": "@jupyter-widgets/controls",
            "_model_module_version": "1.5.0",
            "_model_name": "DescriptionStyleModel",
            "_view_count": null,
            "_view_module": "@jupyter-widgets/base",
            "_view_module_version": "1.2.0",
            "_view_name": "StyleView",
            "description_width": ""
          }
        },
        "fa23c2119cc643e58166ecaa4c06f483": {
          "model_module": "@jupyter-widgets/base",
          "model_name": "LayoutModel",
          "model_module_version": "1.2.0",
          "state": {
            "_model_module": "@jupyter-widgets/base",
            "_model_module_version": "1.2.0",
            "_model_name": "LayoutModel",
            "_view_count": null,
            "_view_module": "@jupyter-widgets/base",
            "_view_module_version": "1.2.0",
            "_view_name": "LayoutView",
            "align_content": null,
            "align_items": null,
            "align_self": null,
            "border": null,
            "bottom": null,
            "display": null,
            "flex": null,
            "flex_flow": null,
            "grid_area": null,
            "grid_auto_columns": null,
            "grid_auto_flow": null,
            "grid_auto_rows": null,
            "grid_column": null,
            "grid_gap": null,
            "grid_row": null,
            "grid_template_areas": null,
            "grid_template_columns": null,
            "grid_template_rows": null,
            "height": "28px",
            "justify_content": null,
            "justify_items": null,
            "left": null,
            "margin": null,
            "max_height": null,
            "max_width": null,
            "min_height": null,
            "min_width": null,
            "object_fit": null,
            "object_position": null,
            "order": null,
            "overflow": null,
            "overflow_x": null,
            "overflow_y": null,
            "padding": "0px 0px 0px 4px",
            "right": null,
            "top": null,
            "visibility": null,
            "width": "28px"
          }
        },
        "aef3f3c1317f4c568e77031a55f725b4": {
          "model_module": "@jupyter-widgets/controls",
          "model_name": "DescriptionStyleModel",
          "model_module_version": "1.5.0",
          "state": {
            "_model_module": "@jupyter-widgets/controls",
            "_model_module_version": "1.5.0",
            "_model_name": "DescriptionStyleModel",
            "_view_count": null,
            "_view_module": "@jupyter-widgets/base",
            "_view_module_version": "1.2.0",
            "_view_name": "StyleView",
            "description_width": ""
          }
        }
      }
    },
    "accelerator": "GPU"
  },
  "cells": [
    {
      "cell_type": "markdown",
      "metadata": {
        "id": "view-in-github",
        "colab_type": "text"
      },
      "source": [
        "<a href=\"https://colab.research.google.com/github/JM-mochi/ForestFirePrediction/blob/main/FFP_CE_CV.ipynb\" target=\"_parent\"><img src=\"https://colab.research.google.com/assets/colab-badge.svg\" alt=\"Open In Colab\"/></a>"
      ]
    },
    {
      "cell_type": "code",
      "execution_count": 1,
      "metadata": {
        "colab": {
          "base_uri": "https://localhost:8080/"
        },
        "id": "HoJdidEbOchd",
        "outputId": "3c261cd1-8024-45a8-fcf9-fd4e94dc6dbb"
      },
      "outputs": [
        {
          "output_type": "stream",
          "name": "stdout",
          "text": [
            "Requirement already satisfied: pandas in /usr/local/lib/python3.10/dist-packages (2.0.3)\n",
            "Requirement already satisfied: numpy in /usr/local/lib/python3.10/dist-packages (1.25.2)\n",
            "Requirement already satisfied: scikit-learn in /usr/local/lib/python3.10/dist-packages (1.2.2)\n",
            "Requirement already satisfied: matplotlib in /usr/local/lib/python3.10/dist-packages (3.7.1)\n",
            "Requirement already satisfied: python-dateutil>=2.8.2 in /usr/local/lib/python3.10/dist-packages (from pandas) (2.8.2)\n",
            "Requirement already satisfied: pytz>=2020.1 in /usr/local/lib/python3.10/dist-packages (from pandas) (2023.4)\n",
            "Requirement already satisfied: tzdata>=2022.1 in /usr/local/lib/python3.10/dist-packages (from pandas) (2024.1)\n",
            "Requirement already satisfied: scipy>=1.3.2 in /usr/local/lib/python3.10/dist-packages (from scikit-learn) (1.11.4)\n",
            "Requirement already satisfied: joblib>=1.1.1 in /usr/local/lib/python3.10/dist-packages (from scikit-learn) (1.4.2)\n",
            "Requirement already satisfied: threadpoolctl>=2.0.0 in /usr/local/lib/python3.10/dist-packages (from scikit-learn) (3.5.0)\n",
            "Requirement already satisfied: contourpy>=1.0.1 in /usr/local/lib/python3.10/dist-packages (from matplotlib) (1.2.1)\n",
            "Requirement already satisfied: cycler>=0.10 in /usr/local/lib/python3.10/dist-packages (from matplotlib) (0.12.1)\n",
            "Requirement already satisfied: fonttools>=4.22.0 in /usr/local/lib/python3.10/dist-packages (from matplotlib) (4.53.0)\n",
            "Requirement already satisfied: kiwisolver>=1.0.1 in /usr/local/lib/python3.10/dist-packages (from matplotlib) (1.4.5)\n",
            "Requirement already satisfied: packaging>=20.0 in /usr/local/lib/python3.10/dist-packages (from matplotlib) (24.1)\n",
            "Requirement already satisfied: pillow>=6.2.0 in /usr/local/lib/python3.10/dist-packages (from matplotlib) (9.4.0)\n",
            "Requirement already satisfied: pyparsing>=2.3.1 in /usr/local/lib/python3.10/dist-packages (from matplotlib) (3.1.2)\n",
            "Requirement already satisfied: six>=1.5 in /usr/local/lib/python3.10/dist-packages (from python-dateutil>=2.8.2->pandas) (1.16.0)\n"
          ]
        }
      ],
      "source": [
        "!pip install pandas numpy scikit-learn matplotlib"
      ]
    },
    {
      "cell_type": "code",
      "source": [
        "!git clone https://github.com/JM-mochi/ForestFirePrediction.git\n"
      ],
      "metadata": {
        "colab": {
          "base_uri": "https://localhost:8080/"
        },
        "id": "ppr8KPhVQwwf",
        "outputId": "b93d1b79-9bf2-4c13-ac0c-a985331bcf51"
      },
      "execution_count": 2,
      "outputs": [
        {
          "output_type": "stream",
          "name": "stdout",
          "text": [
            "Cloning into 'ForestFirePrediction'...\n",
            "remote: Enumerating objects: 1278, done.\u001b[K\n",
            "remote: Counting objects: 100% (77/77), done.\u001b[K\n",
            "remote: Compressing objects: 100% (62/62), done.\u001b[K\n",
            "remote: Total 1278 (delta 29), reused 47 (delta 15), pack-reused 1201\u001b[K\n",
            "Receiving objects: 100% (1278/1278), 774.40 MiB | 27.41 MiB/s, done.\n",
            "Resolving deltas: 100% (345/345), done.\n",
            "Updating files: 100% (427/427), done.\n"
          ]
        }
      ]
    },
    {
      "cell_type": "code",
      "source": [
        "%cd ForestFirePrediction\n"
      ],
      "metadata": {
        "colab": {
          "base_uri": "https://localhost:8080/"
        },
        "id": "H5x8tsWfQxks",
        "outputId": "dfcb050d-299e-40df-ce40-f85def4167df"
      },
      "execution_count": 3,
      "outputs": [
        {
          "output_type": "stream",
          "name": "stdout",
          "text": [
            "/content/ForestFirePrediction\n"
          ]
        }
      ]
    },
    {
      "cell_type": "code",
      "source": [
        "pip install -r requirements.txt"
      ],
      "metadata": {
        "colab": {
          "base_uri": "https://localhost:8080/"
        },
        "id": "WCDsGgBbSE81",
        "outputId": "38fe63b3-c478-4569-8893-34374d4a0713"
      },
      "execution_count": 4,
      "outputs": [
        {
          "output_type": "stream",
          "name": "stdout",
          "text": [
            "Collecting plotext (from -r requirements.txt (line 1))\n",
            "  Downloading plotext-5.2.8-py3-none-any.whl (60 kB)\n",
            "\u001b[?25l     \u001b[90m━━━━━━━━━━━━━━━━━━━━━━━━━━━━━━━━━━━━━━━━\u001b[0m \u001b[32m0.0/60.2 kB\u001b[0m \u001b[31m?\u001b[0m eta \u001b[36m-:--:--\u001b[0m\r\u001b[2K     \u001b[90m━━━━━━━━━━━━━━━━━━━━━━━━━━━━━━━━━━━━━━━━\u001b[0m \u001b[32m60.2/60.2 kB\u001b[0m \u001b[31m1.7 MB/s\u001b[0m eta \u001b[36m0:00:00\u001b[0m\n",
            "\u001b[?25hRequirement already satisfied: opencv-python in /usr/local/lib/python3.10/dist-packages (from -r requirements.txt (line 2)) (4.8.0.76)\n",
            "Requirement already satisfied: albumentations in /usr/local/lib/python3.10/dist-packages (from -r requirements.txt (line 3)) (1.3.1)\n",
            "Requirement already satisfied: tqdm in /usr/local/lib/python3.10/dist-packages (from -r requirements.txt (line 4)) (4.66.4)\n",
            "Requirement already satisfied: tabulate in /usr/local/lib/python3.10/dist-packages (from -r requirements.txt (line 5)) (0.9.0)\n",
            "Collecting diffuser (from -r requirements.txt (line 6))\n",
            "  Downloading diffuser-0.0.1.tar.gz (1.6 kB)\n",
            "  Preparing metadata (setup.py) ... \u001b[?25l\u001b[?25hdone\n",
            "Requirement already satisfied: transformers in /usr/local/lib/python3.10/dist-packages (from -r requirements.txt (line 7)) (4.41.2)\n",
            "Requirement already satisfied: shapely in /usr/local/lib/python3.10/dist-packages (from -r requirements.txt (line 8)) (2.0.4)\n",
            "Requirement already satisfied: numpy>=1.21.2 in /usr/local/lib/python3.10/dist-packages (from opencv-python->-r requirements.txt (line 2)) (1.25.2)\n",
            "Requirement already satisfied: scipy>=1.1.0 in /usr/local/lib/python3.10/dist-packages (from albumentations->-r requirements.txt (line 3)) (1.11.4)\n",
            "Requirement already satisfied: scikit-image>=0.16.1 in /usr/local/lib/python3.10/dist-packages (from albumentations->-r requirements.txt (line 3)) (0.19.3)\n",
            "Requirement already satisfied: PyYAML in /usr/local/lib/python3.10/dist-packages (from albumentations->-r requirements.txt (line 3)) (6.0.1)\n",
            "Requirement already satisfied: qudida>=0.0.4 in /usr/local/lib/python3.10/dist-packages (from albumentations->-r requirements.txt (line 3)) (0.0.4)\n",
            "Requirement already satisfied: opencv-python-headless>=4.1.1 in /usr/local/lib/python3.10/dist-packages (from albumentations->-r requirements.txt (line 3)) (4.10.0.84)\n",
            "Requirement already satisfied: filelock in /usr/local/lib/python3.10/dist-packages (from transformers->-r requirements.txt (line 7)) (3.15.3)\n",
            "Requirement already satisfied: huggingface-hub<1.0,>=0.23.0 in /usr/local/lib/python3.10/dist-packages (from transformers->-r requirements.txt (line 7)) (0.23.4)\n",
            "Requirement already satisfied: packaging>=20.0 in /usr/local/lib/python3.10/dist-packages (from transformers->-r requirements.txt (line 7)) (24.1)\n",
            "Requirement already satisfied: regex!=2019.12.17 in /usr/local/lib/python3.10/dist-packages (from transformers->-r requirements.txt (line 7)) (2024.5.15)\n",
            "Requirement already satisfied: requests in /usr/local/lib/python3.10/dist-packages (from transformers->-r requirements.txt (line 7)) (2.31.0)\n",
            "Requirement already satisfied: tokenizers<0.20,>=0.19 in /usr/local/lib/python3.10/dist-packages (from transformers->-r requirements.txt (line 7)) (0.19.1)\n",
            "Requirement already satisfied: safetensors>=0.4.1 in /usr/local/lib/python3.10/dist-packages (from transformers->-r requirements.txt (line 7)) (0.4.3)\n",
            "Requirement already satisfied: fsspec>=2023.5.0 in /usr/local/lib/python3.10/dist-packages (from huggingface-hub<1.0,>=0.23.0->transformers->-r requirements.txt (line 7)) (2023.6.0)\n",
            "Requirement already satisfied: typing-extensions>=3.7.4.3 in /usr/local/lib/python3.10/dist-packages (from huggingface-hub<1.0,>=0.23.0->transformers->-r requirements.txt (line 7)) (4.12.2)\n",
            "Requirement already satisfied: scikit-learn>=0.19.1 in /usr/local/lib/python3.10/dist-packages (from qudida>=0.0.4->albumentations->-r requirements.txt (line 3)) (1.2.2)\n",
            "Requirement already satisfied: networkx>=2.2 in /usr/local/lib/python3.10/dist-packages (from scikit-image>=0.16.1->albumentations->-r requirements.txt (line 3)) (3.3)\n",
            "Requirement already satisfied: pillow!=7.1.0,!=7.1.1,!=8.3.0,>=6.1.0 in /usr/local/lib/python3.10/dist-packages (from scikit-image>=0.16.1->albumentations->-r requirements.txt (line 3)) (9.4.0)\n",
            "Requirement already satisfied: imageio>=2.4.1 in /usr/local/lib/python3.10/dist-packages (from scikit-image>=0.16.1->albumentations->-r requirements.txt (line 3)) (2.31.6)\n",
            "Requirement already satisfied: tifffile>=2019.7.26 in /usr/local/lib/python3.10/dist-packages (from scikit-image>=0.16.1->albumentations->-r requirements.txt (line 3)) (2024.6.18)\n",
            "Requirement already satisfied: PyWavelets>=1.1.1 in /usr/local/lib/python3.10/dist-packages (from scikit-image>=0.16.1->albumentations->-r requirements.txt (line 3)) (1.6.0)\n",
            "Requirement already satisfied: charset-normalizer<4,>=2 in /usr/local/lib/python3.10/dist-packages (from requests->transformers->-r requirements.txt (line 7)) (3.3.2)\n",
            "Requirement already satisfied: idna<4,>=2.5 in /usr/local/lib/python3.10/dist-packages (from requests->transformers->-r requirements.txt (line 7)) (3.7)\n",
            "Requirement already satisfied: urllib3<3,>=1.21.1 in /usr/local/lib/python3.10/dist-packages (from requests->transformers->-r requirements.txt (line 7)) (2.0.7)\n",
            "Requirement already satisfied: certifi>=2017.4.17 in /usr/local/lib/python3.10/dist-packages (from requests->transformers->-r requirements.txt (line 7)) (2024.6.2)\n",
            "Requirement already satisfied: joblib>=1.1.1 in /usr/local/lib/python3.10/dist-packages (from scikit-learn>=0.19.1->qudida>=0.0.4->albumentations->-r requirements.txt (line 3)) (1.4.2)\n",
            "Requirement already satisfied: threadpoolctl>=2.0.0 in /usr/local/lib/python3.10/dist-packages (from scikit-learn>=0.19.1->qudida>=0.0.4->albumentations->-r requirements.txt (line 3)) (3.5.0)\n",
            "Building wheels for collected packages: diffuser\n",
            "  Building wheel for diffuser (setup.py) ... \u001b[?25l\u001b[?25hdone\n",
            "  Created wheel for diffuser: filename=diffuser-0.0.1-py3-none-any.whl size=1587 sha256=61918388d336b95fed9646921c755c86815dd8d9d75cd414171ab820d9fd9ea6\n",
            "  Stored in directory: /root/.cache/pip/wheels/23/ea/47/62b8e2a4b986d358851edbf8c384c84eb7ce7a04812b1b98fd\n",
            "Successfully built diffuser\n",
            "Installing collected packages: diffuser, plotext\n",
            "Successfully installed diffuser-0.0.1 plotext-5.2.8\n"
          ]
        }
      ]
    },
    {
      "cell_type": "code",
      "source": [
        "!pip install diffusers==0.26.3\n",
        "!pip install -U jax jaxlib\n",
        "!pip install wandb\n",
        "!pip show diffusers\n"
      ],
      "metadata": {
        "id": "sGVrUdalg1l_",
        "colab": {
          "base_uri": "https://localhost:8080/"
        },
        "outputId": "ef196664-5506-4241-e2ce-a53d4fa54e8b"
      },
      "execution_count": 5,
      "outputs": [
        {
          "output_type": "stream",
          "name": "stdout",
          "text": [
            "Collecting diffusers==0.26.3\n",
            "  Downloading diffusers-0.26.3-py3-none-any.whl (1.9 MB)\n",
            "\u001b[2K     \u001b[90m━━━━━━━━━━━━━━━━━━━━━━━━━━━━━━━━━━━━━━━━\u001b[0m \u001b[32m1.9/1.9 MB\u001b[0m \u001b[31m10.8 MB/s\u001b[0m eta \u001b[36m0:00:00\u001b[0m\n",
            "\u001b[?25hRequirement already satisfied: importlib-metadata in /usr/local/lib/python3.10/dist-packages (from diffusers==0.26.3) (7.2.0)\n",
            "Requirement already satisfied: filelock in /usr/local/lib/python3.10/dist-packages (from diffusers==0.26.3) (3.15.3)\n",
            "Requirement already satisfied: huggingface-hub>=0.20.2 in /usr/local/lib/python3.10/dist-packages (from diffusers==0.26.3) (0.23.4)\n",
            "Requirement already satisfied: numpy in /usr/local/lib/python3.10/dist-packages (from diffusers==0.26.3) (1.25.2)\n",
            "Requirement already satisfied: regex!=2019.12.17 in /usr/local/lib/python3.10/dist-packages (from diffusers==0.26.3) (2024.5.15)\n",
            "Requirement already satisfied: requests in /usr/local/lib/python3.10/dist-packages (from diffusers==0.26.3) (2.31.0)\n",
            "Requirement already satisfied: safetensors>=0.3.1 in /usr/local/lib/python3.10/dist-packages (from diffusers==0.26.3) (0.4.3)\n",
            "Requirement already satisfied: Pillow in /usr/local/lib/python3.10/dist-packages (from diffusers==0.26.3) (9.4.0)\n",
            "Requirement already satisfied: fsspec>=2023.5.0 in /usr/local/lib/python3.10/dist-packages (from huggingface-hub>=0.20.2->diffusers==0.26.3) (2023.6.0)\n",
            "Requirement already satisfied: packaging>=20.9 in /usr/local/lib/python3.10/dist-packages (from huggingface-hub>=0.20.2->diffusers==0.26.3) (24.1)\n",
            "Requirement already satisfied: pyyaml>=5.1 in /usr/local/lib/python3.10/dist-packages (from huggingface-hub>=0.20.2->diffusers==0.26.3) (6.0.1)\n",
            "Requirement already satisfied: tqdm>=4.42.1 in /usr/local/lib/python3.10/dist-packages (from huggingface-hub>=0.20.2->diffusers==0.26.3) (4.66.4)\n",
            "Requirement already satisfied: typing-extensions>=3.7.4.3 in /usr/local/lib/python3.10/dist-packages (from huggingface-hub>=0.20.2->diffusers==0.26.3) (4.12.2)\n",
            "Requirement already satisfied: zipp>=0.5 in /usr/local/lib/python3.10/dist-packages (from importlib-metadata->diffusers==0.26.3) (3.19.2)\n",
            "Requirement already satisfied: charset-normalizer<4,>=2 in /usr/local/lib/python3.10/dist-packages (from requests->diffusers==0.26.3) (3.3.2)\n",
            "Requirement already satisfied: idna<4,>=2.5 in /usr/local/lib/python3.10/dist-packages (from requests->diffusers==0.26.3) (3.7)\n",
            "Requirement already satisfied: urllib3<3,>=1.21.1 in /usr/local/lib/python3.10/dist-packages (from requests->diffusers==0.26.3) (2.0.7)\n",
            "Requirement already satisfied: certifi>=2017.4.17 in /usr/local/lib/python3.10/dist-packages (from requests->diffusers==0.26.3) (2024.6.2)\n",
            "Installing collected packages: diffusers\n",
            "Successfully installed diffusers-0.26.3\n",
            "Requirement already satisfied: jax in /usr/local/lib/python3.10/dist-packages (0.4.26)\n",
            "Collecting jax\n",
            "  Downloading jax-0.4.30-py3-none-any.whl (2.0 MB)\n",
            "\u001b[2K     \u001b[90m━━━━━━━━━━━━━━━━━━━━━━━━━━━━━━━━━━━━━━━━\u001b[0m \u001b[32m2.0/2.0 MB\u001b[0m \u001b[31m11.9 MB/s\u001b[0m eta \u001b[36m0:00:00\u001b[0m\n",
            "\u001b[?25hRequirement already satisfied: jaxlib in /usr/local/lib/python3.10/dist-packages (0.4.26+cuda12.cudnn89)\n",
            "Collecting jaxlib\n",
            "  Downloading jaxlib-0.4.30-cp310-cp310-manylinux2014_x86_64.whl (79.6 MB)\n",
            "\u001b[2K     \u001b[90m━━━━━━━━━━━━━━━━━━━━━━━━━━━━━━━━━━━━━━━━\u001b[0m \u001b[32m79.6/79.6 MB\u001b[0m \u001b[31m9.8 MB/s\u001b[0m eta \u001b[36m0:00:00\u001b[0m\n",
            "\u001b[?25hRequirement already satisfied: ml-dtypes>=0.2.0 in /usr/local/lib/python3.10/dist-packages (from jax) (0.2.0)\n",
            "Requirement already satisfied: numpy>=1.22 in /usr/local/lib/python3.10/dist-packages (from jax) (1.25.2)\n",
            "Requirement already satisfied: opt-einsum in /usr/local/lib/python3.10/dist-packages (from jax) (3.3.0)\n",
            "Requirement already satisfied: scipy>=1.9 in /usr/local/lib/python3.10/dist-packages (from jax) (1.11.4)\n",
            "Installing collected packages: jaxlib, jax\n",
            "  Attempting uninstall: jaxlib\n",
            "    Found existing installation: jaxlib 0.4.26+cuda12.cudnn89\n",
            "    Uninstalling jaxlib-0.4.26+cuda12.cudnn89:\n",
            "      Successfully uninstalled jaxlib-0.4.26+cuda12.cudnn89\n",
            "  Attempting uninstall: jax\n",
            "    Found existing installation: jax 0.4.26\n",
            "    Uninstalling jax-0.4.26:\n",
            "      Successfully uninstalled jax-0.4.26\n",
            "Successfully installed jax-0.4.30 jaxlib-0.4.30\n",
            "Collecting wandb\n",
            "  Downloading wandb-0.17.3-py3-none-manylinux_2_5_x86_64.manylinux1_x86_64.manylinux_2_17_x86_64.manylinux2014_x86_64.whl (6.9 MB)\n",
            "\u001b[2K     \u001b[90m━━━━━━━━━━━━━━━━━━━━━━━━━━━━━━━━━━━━━━━━\u001b[0m \u001b[32m6.9/6.9 MB\u001b[0m \u001b[31m20.3 MB/s\u001b[0m eta \u001b[36m0:00:00\u001b[0m\n",
            "\u001b[?25hRequirement already satisfied: click!=8.0.0,>=7.1 in /usr/local/lib/python3.10/dist-packages (from wandb) (8.1.7)\n",
            "Collecting docker-pycreds>=0.4.0 (from wandb)\n",
            "  Downloading docker_pycreds-0.4.0-py2.py3-none-any.whl (9.0 kB)\n",
            "Collecting gitpython!=3.1.29,>=1.0.0 (from wandb)\n",
            "  Downloading GitPython-3.1.43-py3-none-any.whl (207 kB)\n",
            "\u001b[2K     \u001b[90m━━━━━━━━━━━━━━━━━━━━━━━━━━━━━━━━━━━━━━━━\u001b[0m \u001b[32m207.3/207.3 kB\u001b[0m \u001b[31m26.3 MB/s\u001b[0m eta \u001b[36m0:00:00\u001b[0m\n",
            "\u001b[?25hRequirement already satisfied: platformdirs in /usr/local/lib/python3.10/dist-packages (from wandb) (4.2.2)\n",
            "Requirement already satisfied: protobuf!=4.21.0,<6,>=3.19.0 in /usr/local/lib/python3.10/dist-packages (from wandb) (3.20.3)\n",
            "Requirement already satisfied: psutil>=5.0.0 in /usr/local/lib/python3.10/dist-packages (from wandb) (5.9.5)\n",
            "Requirement already satisfied: pyyaml in /usr/local/lib/python3.10/dist-packages (from wandb) (6.0.1)\n",
            "Requirement already satisfied: requests<3,>=2.0.0 in /usr/local/lib/python3.10/dist-packages (from wandb) (2.31.0)\n",
            "Collecting sentry-sdk>=1.0.0 (from wandb)\n",
            "  Downloading sentry_sdk-2.7.1-py2.py3-none-any.whl (300 kB)\n",
            "\u001b[2K     \u001b[90m━━━━━━━━━━━━━━━━━━━━━━━━━━━━━━━━━━━━━━━━\u001b[0m \u001b[32m300.2/300.2 kB\u001b[0m \u001b[31m36.2 MB/s\u001b[0m eta \u001b[36m0:00:00\u001b[0m\n",
            "\u001b[?25hCollecting setproctitle (from wandb)\n",
            "  Downloading setproctitle-1.3.3-cp310-cp310-manylinux_2_5_x86_64.manylinux1_x86_64.manylinux_2_17_x86_64.manylinux2014_x86_64.whl (30 kB)\n",
            "Requirement already satisfied: setuptools in /usr/local/lib/python3.10/dist-packages (from wandb) (67.7.2)\n",
            "Requirement already satisfied: six>=1.4.0 in /usr/local/lib/python3.10/dist-packages (from docker-pycreds>=0.4.0->wandb) (1.16.0)\n",
            "Collecting gitdb<5,>=4.0.1 (from gitpython!=3.1.29,>=1.0.0->wandb)\n",
            "  Downloading gitdb-4.0.11-py3-none-any.whl (62 kB)\n",
            "\u001b[2K     \u001b[90m━━━━━━━━━━━━━━━━━━━━━━━━━━━━━━━━━━━━━━━━\u001b[0m \u001b[32m62.7/62.7 kB\u001b[0m \u001b[31m8.6 MB/s\u001b[0m eta \u001b[36m0:00:00\u001b[0m\n",
            "\u001b[?25hRequirement already satisfied: charset-normalizer<4,>=2 in /usr/local/lib/python3.10/dist-packages (from requests<3,>=2.0.0->wandb) (3.3.2)\n",
            "Requirement already satisfied: idna<4,>=2.5 in /usr/local/lib/python3.10/dist-packages (from requests<3,>=2.0.0->wandb) (3.7)\n",
            "Requirement already satisfied: urllib3<3,>=1.21.1 in /usr/local/lib/python3.10/dist-packages (from requests<3,>=2.0.0->wandb) (2.0.7)\n",
            "Requirement already satisfied: certifi>=2017.4.17 in /usr/local/lib/python3.10/dist-packages (from requests<3,>=2.0.0->wandb) (2024.6.2)\n",
            "Collecting smmap<6,>=3.0.1 (from gitdb<5,>=4.0.1->gitpython!=3.1.29,>=1.0.0->wandb)\n",
            "  Downloading smmap-5.0.1-py3-none-any.whl (24 kB)\n",
            "Installing collected packages: smmap, setproctitle, sentry-sdk, docker-pycreds, gitdb, gitpython, wandb\n",
            "Successfully installed docker-pycreds-0.4.0 gitdb-4.0.11 gitpython-3.1.43 sentry-sdk-2.7.1 setproctitle-1.3.3 smmap-5.0.1 wandb-0.17.3\n",
            "Name: diffusers\n",
            "Version: 0.26.3\n",
            "Summary: State-of-the-art diffusion in PyTorch and JAX.\n",
            "Home-page: https://github.com/huggingface/diffusers\n",
            "Author: The Hugging Face team (past and future) with the help of all our contributors (https://github.com/huggingface/diffusers/graphs/contributors)\n",
            "Author-email: patrick@huggingface.co\n",
            "License: Apache 2.0 License\n",
            "Location: /usr/local/lib/python3.10/dist-packages\n",
            "Requires: filelock, huggingface-hub, importlib-metadata, numpy, Pillow, regex, requests, safetensors\n",
            "Required-by: \n"
          ]
        }
      ]
    },
    {
      "cell_type": "markdown",
      "source": [
        "modis"
      ],
      "metadata": {
        "id": "EFU8NG0gmiCV"
      }
    },
    {
      "cell_type": "code",
      "source": [
        "pip install earthengine-api --upgrade"
      ],
      "metadata": {
        "id": "Tmyn_dc87igi",
        "colab": {
          "base_uri": "https://localhost:8080/"
        },
        "outputId": "ab3fad6c-32b5-4564-8888-90c8e5959525"
      },
      "execution_count": 6,
      "outputs": [
        {
          "output_type": "stream",
          "name": "stdout",
          "text": [
            "Requirement already satisfied: earthengine-api in /usr/local/lib/python3.10/dist-packages (0.1.408)\n",
            "Collecting earthengine-api\n",
            "  Downloading earthengine_api-0.1.409-py3-none-any.whl (392 kB)\n",
            "\u001b[2K     \u001b[90m━━━━━━━━━━━━━━━━━━━━━━━━━━━━━━━━━━━━━━━━\u001b[0m \u001b[32m392.9/392.9 kB\u001b[0m \u001b[31m6.7 MB/s\u001b[0m eta \u001b[36m0:00:00\u001b[0m\n",
            "\u001b[?25hRequirement already satisfied: google-cloud-storage in /usr/local/lib/python3.10/dist-packages (from earthengine-api) (2.8.0)\n",
            "Requirement already satisfied: google-api-python-client>=1.12.1 in /usr/local/lib/python3.10/dist-packages (from earthengine-api) (2.84.0)\n",
            "Requirement already satisfied: google-auth>=1.4.1 in /usr/local/lib/python3.10/dist-packages (from earthengine-api) (2.27.0)\n",
            "Requirement already satisfied: google-auth-httplib2>=0.0.3 in /usr/local/lib/python3.10/dist-packages (from earthengine-api) (0.1.1)\n",
            "Requirement already satisfied: httplib2<1dev,>=0.9.2 in /usr/local/lib/python3.10/dist-packages (from earthengine-api) (0.22.0)\n",
            "Requirement already satisfied: requests in /usr/local/lib/python3.10/dist-packages (from earthengine-api) (2.31.0)\n",
            "Requirement already satisfied: google-api-core!=2.0.*,!=2.1.*,!=2.2.*,!=2.3.0,<3.0.0dev,>=1.31.5 in /usr/local/lib/python3.10/dist-packages (from google-api-python-client>=1.12.1->earthengine-api) (2.11.1)\n",
            "Requirement already satisfied: uritemplate<5,>=3.0.1 in /usr/local/lib/python3.10/dist-packages (from google-api-python-client>=1.12.1->earthengine-api) (4.1.1)\n",
            "Requirement already satisfied: cachetools<6.0,>=2.0.0 in /usr/local/lib/python3.10/dist-packages (from google-auth>=1.4.1->earthengine-api) (5.3.3)\n",
            "Requirement already satisfied: pyasn1-modules>=0.2.1 in /usr/local/lib/python3.10/dist-packages (from google-auth>=1.4.1->earthengine-api) (0.4.0)\n",
            "Requirement already satisfied: rsa<5,>=3.1.4 in /usr/local/lib/python3.10/dist-packages (from google-auth>=1.4.1->earthengine-api) (4.9)\n",
            "Requirement already satisfied: pyparsing!=3.0.0,!=3.0.1,!=3.0.2,!=3.0.3,<4,>=2.4.2 in /usr/local/lib/python3.10/dist-packages (from httplib2<1dev,>=0.9.2->earthengine-api) (3.1.2)\n",
            "Requirement already satisfied: google-cloud-core<3.0dev,>=2.3.0 in /usr/local/lib/python3.10/dist-packages (from google-cloud-storage->earthengine-api) (2.3.3)\n",
            "Requirement already satisfied: google-resumable-media>=2.3.2 in /usr/local/lib/python3.10/dist-packages (from google-cloud-storage->earthengine-api) (2.7.1)\n",
            "Requirement already satisfied: charset-normalizer<4,>=2 in /usr/local/lib/python3.10/dist-packages (from requests->earthengine-api) (3.3.2)\n",
            "Requirement already satisfied: idna<4,>=2.5 in /usr/local/lib/python3.10/dist-packages (from requests->earthengine-api) (3.7)\n",
            "Requirement already satisfied: urllib3<3,>=1.21.1 in /usr/local/lib/python3.10/dist-packages (from requests->earthengine-api) (2.0.7)\n",
            "Requirement already satisfied: certifi>=2017.4.17 in /usr/local/lib/python3.10/dist-packages (from requests->earthengine-api) (2024.6.2)\n",
            "Requirement already satisfied: googleapis-common-protos<2.0.dev0,>=1.56.2 in /usr/local/lib/python3.10/dist-packages (from google-api-core!=2.0.*,!=2.1.*,!=2.2.*,!=2.3.0,<3.0.0dev,>=1.31.5->google-api-python-client>=1.12.1->earthengine-api) (1.63.1)\n",
            "Requirement already satisfied: protobuf!=3.20.0,!=3.20.1,!=4.21.0,!=4.21.1,!=4.21.2,!=4.21.3,!=4.21.4,!=4.21.5,<5.0.0.dev0,>=3.19.5 in /usr/local/lib/python3.10/dist-packages (from google-api-core!=2.0.*,!=2.1.*,!=2.2.*,!=2.3.0,<3.0.0dev,>=1.31.5->google-api-python-client>=1.12.1->earthengine-api) (3.20.3)\n",
            "Requirement already satisfied: google-crc32c<2.0dev,>=1.0 in /usr/local/lib/python3.10/dist-packages (from google-resumable-media>=2.3.2->google-cloud-storage->earthengine-api) (1.5.0)\n",
            "Requirement already satisfied: pyasn1<0.7.0,>=0.4.6 in /usr/local/lib/python3.10/dist-packages (from pyasn1-modules>=0.2.1->google-auth>=1.4.1->earthengine-api) (0.6.0)\n",
            "Installing collected packages: earthengine-api\n",
            "  Attempting uninstall: earthengine-api\n",
            "    Found existing installation: earthengine-api 0.1.408\n",
            "    Uninstalling earthengine-api-0.1.408:\n",
            "      Successfully uninstalled earthengine-api-0.1.408\n",
            "Successfully installed earthengine-api-0.1.409\n"
          ]
        }
      ]
    },
    {
      "cell_type": "code",
      "source": [
        "import geemap\n",
        "import ee\n",
        "\n",
        "ee.Authenticate()\n",
        "ee.Initialize(project='august-boulder-424715-s1')\n",
        "\n",
        "#aoi = ee.Geometry(Point([-48.4, -23]))\n",
        "\n",
        "fire = ee.ImageCollection('MODIS/006/MCD64A1').filter(ee.Filter.date('2018-01-01', '2020-12-31'))\n",
        "\n",
        "burnedArea = fire.select('BurnDate')\n",
        "burnedAreaVis = {\n",
        "  'min': 30.0,\n",
        "  'max': 341.0,\n",
        "  'opacity': 0.5,\n",
        "  'palette': ['4e0400', '951003', 'c61503', 'ff1901'],\n",
        "}\n",
        "\n",
        "img = fire.first()\n",
        "cld = fire.first()\n",
        "\n",
        "Map = geemap.Map(center=(39.9760,-121.6252), zoom=12)\n",
        "#Map.addLayer(cld, {'min': 0, 'max': 100, 'palette': ['purple', 'yellow']}, 'Cloud Probability', True, 1)\n",
        "# point1 = ee.Geometry.Point([-121.6252,39.9760])\n",
        "# Map.addLayer(point1, {'color': 'eb0000', 'width': 5}, 'Point')\n",
        "# point2 = ee.Geometry.Point([-121.6252,39.9780])\n",
        "# Map.addLayer(point2, {'color': '1c5f2c', 'width': 10}, 'Point')\n",
        "# points = ee.FeatureCollection.([[-121.082, 39.9760], [-121.6252, 39.9790]]);\n",
        "# Map.addLayer(multiPoint,\n",
        "#              {'color': 'black'},\n",
        "#              'Geometry [black]: multiPoint');\n",
        "Map.addLayer(burnedArea, burnedAreaVis, 'Burned Area')\n",
        "# FeatureCollection from a list of features.\n",
        "list_fire = [\n",
        "    ee.Feature(ee.Geometry.Point(-121.6162 + .3, 39.9870 - .1)),\n",
        "    ee.Feature(ee.Geometry.Point(-121.6242 + .3, 39.9790 - .1)),\n",
        "    ee.Feature(ee.Geometry.Point(-121.6352 + .3, 39.9980 - .1))\n",
        "]\n",
        "list_of_fire_fc = ee.FeatureCollection(list_fire)\n",
        "print('FeatureCollection from a list of features:',\n",
        "      list_of_fire_fc.getInfo())\n",
        "Map.addLayer(list_of_fire_fc, {'color':'red', 'pointSize': 3, 'width': 10})\n",
        "list_nofire = [\n",
        "    ee.Feature(ee.Geometry.Point(-121.6162 -.03, 39.9870 -.03)),\n",
        "    ee.Feature(ee.Geometry.Point(-121.6242 -.03, 39.9790 -.03)),\n",
        "    ee.Feature(ee.Geometry.Point(-121.6352 -.03, 39.9980 -.03))\n",
        "]\n",
        "list_of_nofire_fc = ee.FeatureCollection(list_nofire)\n",
        "print('FeatureCollection from a list of features:',\n",
        "      list_of_nofire_fc.getInfo())\n",
        "Map.addLayer(list_of_nofire_fc, {'color':'green', 'pointSize': 2, 'width': 10})\n",
        "Map"
      ],
      "metadata": {
        "id": "5lmawfn8mhli",
        "colab": {
          "base_uri": "https://localhost:8080/",
          "height": 807,
          "referenced_widgets": [
            "c73af31788e74ec587bcaea3b06477be",
            "1305c78f839141f9bebda00d54a5fa10",
            "1f237267965446ecb9ea5d0b894e3e65",
            "f25c6ea9d4294ae5b771ae63ee053886",
            "459f783af8ef4f69b69eec571f3253a9",
            "6ee23176a7c24d0bbf9d0eac801bf2e4",
            "18e07961cad2420e9a65514c91400296",
            "aeaf843bd258448297eaba1eb6aacbfc",
            "409faff0e9084538877ba28cbd6b7158",
            "a06a64fa57864ad4b19e376526c08730",
            "fafbe1a58f8e491abf4f13712ccac5eb",
            "f661e9bc05ef489899e73e842f3c12ec",
            "d2c0a5ebfc5e4fe98dce8c5bd02bded5",
            "03127c35a9534580b84bb44c1853c8a8",
            "29fc174827f14999b58242dd8770524e",
            "84bf98d8a8d44a7691bc2b62e89f9a08",
            "396112541ef34947b5b2bac9f8ae682e",
            "e5d54ea190dd4c80a06f976b5818ebdd",
            "a5c92f47b726497f9d8c71aa2a61bcd3",
            "846248351de54757b793f6fa3b4c0564",
            "9cfd404448ac421592060affba98180c",
            "fa2563c1edf144b1a1ee8a7d52083ff3",
            "307999a641194c45acc60a46069bc51a",
            "02b7fb0144ed438e90cb52289240b55d",
            "3705976ba8794bc2ad4d1573da5d0e97",
            "fa23c2119cc643e58166ecaa4c06f483",
            "aef3f3c1317f4c568e77031a55f725b4"
          ]
        },
        "outputId": "84a46598-8237-4cfa-83a2-d2e95201181a"
      },
      "execution_count": 7,
      "outputs": [
        {
          "output_type": "stream",
          "name": "stderr",
          "text": [
            "/usr/local/lib/python3.10/dist-packages/ee/deprecation.py:204: DeprecationWarning: \n",
            "\n",
            "Attention required for MODIS/006/MCD64A1! You are using a deprecated asset.\n",
            "To ensure continued functionality, please update it.\n",
            "Learn more: https://developers.google.com/earth-engine/datasets/catalog/MODIS_006_MCD64A1\n",
            "\n",
            "  warnings.warn(warning, category=DeprecationWarning)\n"
          ]
        },
        {
          "output_type": "stream",
          "name": "stdout",
          "text": [
            "FeatureCollection from a list of features: {'type': 'FeatureCollection', 'columns': {'system:index': 'String'}, 'features': [{'type': 'Feature', 'geometry': {'type': 'Point', 'coordinates': [-121.31620000000001, 39.887]}, 'id': '0', 'properties': {}}, {'type': 'Feature', 'geometry': {'type': 'Point', 'coordinates': [-121.3242, 39.879]}, 'id': '1', 'properties': {}}, {'type': 'Feature', 'geometry': {'type': 'Point', 'coordinates': [-121.3352, 39.897999999999996]}, 'id': '2', 'properties': {}}]}\n",
            "FeatureCollection from a list of features: {'type': 'FeatureCollection', 'columns': {'system:index': 'String'}, 'features': [{'type': 'Feature', 'geometry': {'type': 'Point', 'coordinates': [-121.64620000000001, 39.957]}, 'id': '0', 'properties': {}}, {'type': 'Feature', 'geometry': {'type': 'Point', 'coordinates': [-121.6542, 39.949]}, 'id': '1', 'properties': {}}, {'type': 'Feature', 'geometry': {'type': 'Point', 'coordinates': [-121.6652, 39.967999999999996]}, 'id': '2', 'properties': {}}]}\n"
          ]
        },
        {
          "output_type": "display_data",
          "data": {
            "text/plain": [
              "Map(center=[39.976, -121.6252], controls=(WidgetControl(options=['position', 'transparent_bg'], widget=SearchD…"
            ],
            "application/vnd.jupyter.widget-view+json": {
              "version_major": 2,
              "version_minor": 0,
              "model_id": "c73af31788e74ec587bcaea3b06477be"
            }
          },
          "metadata": {
            "application/vnd.jupyter.widget-view+json": {
              "colab": {
                "custom_widget_manager": {
                  "url": "https://ssl.gstatic.com/colaboratory-static/widgets/colab-cdn-widget-manager/2b70e893a8ba7c0f/manager.min.js"
                }
              }
            }
          }
        }
      ]
    },
    {
      "cell_type": "markdown",
      "source": [
        "### 기존 코드"
      ],
      "metadata": {
        "id": "i25S93hKqD82"
      }
    },
    {
      "cell_type": "code",
      "source": [
        "from PIL import Image\n",
        "import os\n",
        "\n",
        "try:\n",
        "    os.makedirs('data/colorEnhanced/train/NoFire')\n",
        "    os.makedirs('data/colorEnhanced/val/NoFire')\n",
        "    os.makedirs('data/colorEnhanced/train/Fire')\n",
        "    os.makedirs('data/colorEnhanced/val/Fire')\n",
        "except:\n",
        "    print(\"folder already exist\")\n",
        "\n",
        "perc = .05\n",
        "print(\"percent to change Fire\", perc)\n",
        "\n",
        "def colorEnhancedIm(fldrIn, fn, fldrOut, perc=-.04, type='png'):\n",
        "    path = fldrIn + fn\n",
        "    im = Image.open(path).convert('RGB')\n",
        "\n",
        "    # Split into 3 channels\n",
        "    r, g, b = im.split()\n",
        "    # Increase Reds\n",
        "    r = r.point(lambda i: i * (1+perc))\n",
        "\n",
        "    # Decrease Greens\n",
        "    g = g.point(lambda i: i * (1-perc))\n",
        "\n",
        "    # Recombine back to RGB image\n",
        "    result = Image.merge('RGB', (r, g, b))\n",
        "\n",
        "    result.save(f'{fldrOut}/{fn}')\n",
        "    im.close()\n",
        "# cropIm(fldrIn, fn, fldrOut)\n",
        "\n",
        "import glob\n",
        "FireList = []\n",
        "NoFireList = []\n",
        "\n",
        "fldrIn = \"data/synthetic/train/Fire/\"\n",
        "fldrOut = \"data/colorEnhanced/train/Fire/\"\n",
        "for fire, fn in enumerate(glob.glob(fldrIn+\"*.png\")):\n",
        "    fn_trunc = fn.split('/')[-1]\n",
        "    FireList.append(fn_trunc)\n",
        "    colorEnhancedIm(fldrIn, fn_trunc, fldrOut, perc, 'png')\n",
        "print(\"completed train set\")\n",
        "fldrIn = \"data/synthetic/val/Fire/\"\n",
        "fldrOut = \"data/colorEnhanced/val/Fire/\"\n",
        "for fire, fn in enumerate(glob.glob(fldrIn+\"*.png\")):\n",
        "    fn_trunc = fn.split('/')[-1]\n",
        "    FireList.append(fn_trunc)\n",
        "    colorEnhancedIm(fldrIn, fn_trunc, fldrOut, perc, 'png')\n",
        "print(\"completed val set\")\n",
        "\n",
        "perc = -1 * perc\n",
        "print(\"percent to change NoFire\", perc)\n",
        "\n",
        "fldrIn = \"data/synthetic/train/NoFire/\"\n",
        "fldrOut = \"data/colorEnhanced/train/NoFire\"\n",
        "for fire, fn in enumerate(glob.glob(fldrIn+\"*.png\")):\n",
        "    fn_trunc = fn.split('/')[-1]\n",
        "    FireList.append(fn_trunc)\n",
        "    colorEnhancedIm(fldrIn, fn_trunc, fldrOut, perc, 'png')\n",
        "print(\"completed train set\")\n",
        "fldrIn = \"data/synthetic/val/NoFire/\"\n",
        "fldrOut = \"data/colorEnhanced/val/NoFire/\"\n",
        "for fire, fn in enumerate(glob.glob(fldrIn+\"*.png\")):\n",
        "    fn_trunc = fn.split('/')[-1]\n",
        "    FireList.append(fn_trunc)\n",
        "    colorEnhancedIm(fldrIn, fn_trunc, fldrOut, perc, 'png')\n",
        "print(\"completed val set\")\n",
        "\n",
        "print(\"done\")\n"
      ],
      "metadata": {
        "colab": {
          "base_uri": "https://localhost:8080/",
          "height": 146
        },
        "id": "nNdfiFcSLedC",
        "outputId": "4630904b-0aad-4d32-e782-6288964881d3"
      },
      "execution_count": 8,
      "outputs": [
        {
          "output_type": "display_data",
          "data": {
            "text/plain": [
              "<IPython.core.display.HTML object>"
            ],
            "text/html": [
              "\n",
              "            <style>\n",
              "                .geemap-dark {\n",
              "                    --jp-widgets-color: white;\n",
              "                    --jp-widgets-label-color: white;\n",
              "                    --jp-ui-font-color1: white;\n",
              "                    --jp-layout-color2: #454545;\n",
              "                    background-color: #383838;\n",
              "                }\n",
              "\n",
              "                .geemap-dark .jupyter-button {\n",
              "                    --jp-layout-color3: #383838;\n",
              "                }\n",
              "\n",
              "                .geemap-colab {\n",
              "                    background-color: var(--colab-primary-surface-color, white);\n",
              "                }\n",
              "\n",
              "                .geemap-colab .jupyter-button {\n",
              "                    --jp-layout-color3: var(--colab-primary-surface-color, white);\n",
              "                }\n",
              "            </style>\n",
              "            "
            ]
          },
          "metadata": {}
        },
        {
          "output_type": "stream",
          "name": "stdout",
          "text": [
            "percent to change Fire 0.05\n",
            "completed train set\n",
            "completed val set\n",
            "percent to change NoFire -0.05\n",
            "completed train set\n",
            "completed val set\n",
            "done\n"
          ]
        }
      ]
    },
    {
      "cell_type": "code",
      "source": [
        "import os\n",
        "os.environ[\"WANDB_DIR\"] = \"./wandb_logs/\"\n",
        "import pathlib\n",
        "import warnings\n",
        "import random\n",
        "import time\n",
        "import gc\n",
        "from typing import Tuple\n",
        "#import glob\n",
        "from PIL import Image\n",
        "from os.path import exists\n",
        "import os\n",
        "warnings.filterwarnings(\"ignore\")\n",
        "\n",
        "import torch\n",
        "import numpy as np\n",
        "import matplotlib.pyplot as plt\n",
        "import wandb\n",
        "\n",
        "from torchvision import datasets, transforms\n",
        "from torch.utils.data import DataLoader, Dataset\n",
        "\n",
        "from batch_finder import optimum_batch_size\n",
        "from config import set_seed, device\n",
        "from data_loader import (\n",
        "    TRAIN_DIR,\n",
        "    VALID_DIR,\n",
        "    augment_and_save,\n",
        "    data_distribution,\n",
        "    imagenet_stats,\n",
        "    img_transforms,\n",
        "    plot_data_distribution,\n",
        "    show_data,\n",
        ")\n",
        "from metrics import Metrics\n",
        "from model import FireFinder\n",
        "from trainer import Trainer\n",
        "from lr_finder import LearningRateFinder\n",
        "from torch import optim\n",
        "\n",
        "# hyper params\n",
        "#테스트 결과 50epochs 이후로 큰 변화가 없어서 스톱\n",
        "EPOCHS = 50 #20\n",
        "DROPOUT = .6\n",
        "LR = 1e-6 #2.14e-4\n",
        "#LR = 3.e-3\n",
        "TEST_DIR = 'data/shift/'\n",
        "BATCH_SIZE = 32 #128  # Default batch size\n",
        "cuda = torch.device(\"cuda\")#cuda\n",
        "\n",
        "def create_dataloader(\n",
        "    directory: str, batch_size: int, shuffle: bool = False, transform=None\n",
        ") -> DataLoader:\n",
        "    \"\"\"\n",
        "    Create a DataLoader from a directory of images.\n",
        "\n",
        "    Args:\n",
        "        directory (str): Directory containing images.\n",
        "        batch_size (int): Batch size for the DataLoader.\n",
        "        shuffle (bool, optional): Whether to shuffle the data. Defaults to False.\n",
        "        transform ([type], optional): Transformations to apply to the images. Defaults to None.\n",
        "\n",
        "    Returns:\n",
        "        DataLoader: DataLoader with images from the directory.\n",
        "    \"\"\"\n",
        "    data = datasets.ImageFolder(directory, transform=transform)\n",
        "    return DataLoader(data, batch_size=batch_size, shuffle=shuffle)\n",
        "\n",
        "\n",
        "def setup_dataloaders(config: dict) -> Tuple[DataLoader, DataLoader]:\n",
        "    \"\"\"\n",
        "    Setup train and validation DataLoaders.\n",
        "\n",
        "    Args:\n",
        "        config (dict): Configuration dictionary containing batch_size.\n",
        "\n",
        "    Returns:\n",
        "        Tuple[DataLoader, DataLoader]: A tuple containing train and validation dataloaders.\n",
        "    \"\"\"\n",
        "    return create_dataloader(\n",
        "        TRAIN_DIR, config[\"batch_size\"], shuffle=True, transform=img_transforms[\"train\"]\n",
        "    ), create_dataloader(\n",
        "        VALID_DIR, config[\"batch_size\"], transform=img_transforms[\"valid\"]\n",
        "    )\n",
        "\n",
        "\n",
        "def find_lr(model: FireFinder, optimizer: optim.Adam, dataloader: DataLoader) -> float:\n",
        "    \"\"\"\n",
        "    Find best learning rate using Learning Rate Finder.\n",
        "\n",
        "    Args:\n",
        "        model (FireFinder): FireFinder model.\n",
        "        optimizer (optim.Adam): Adam optimizer.\n",
        "        dataloader (DataLoader): DataLoader with training data.\n",
        "\n",
        "    Returns:\n",
        "        float: Best learning rate.\n",
        "    \"\"\"\n",
        "    lr_finder = LearningRateFinder(model, optimizer, device)\n",
        "    best_lr = lr_finder.lr_range_test(dataloader, start_lr=1e-2, end_lr=1e-5)\n",
        "    return best_lr\n",
        "\n",
        "\n",
        "def train(model: FireFinder, trainer: Trainer, config: dict):\n",
        "    \"\"\"\n",
        "    Train a FireFinder model.\n",
        "\n",
        "    Args:\n",
        "        model (FireFinder): FireFinder model.\n",
        "        trainer (Trainer): Trainer to train the model.\n",
        "        config (dict): Configuration dictionary containing learning rate and batch size.\n",
        "    \"\"\"\n",
        "    train_dataloader, valid_dataloader = setup_dataloaders(config)\n",
        "    print(\"training data\")\n",
        "    plot_data_distribution(data_distribution(train_dataloader.dataset, TRAIN_DIR))\n",
        "    print(\"\\nvalidation data\")\n",
        "    plot_data_distribution(data_distribution(valid_dataloader.dataset, VALID_DIR))\n",
        "    print(f\"______________\")\n",
        "    start = time.time()\n",
        "    val_acc = trainer.fine_tune(train_dataloader, valid_dataloader)\n",
        "    model_save_path = f\"./models/model_acc_{val_acc}_device_{device}_lr_{trainer.lr}_epochs_{EPOCHS}.pt\"\n",
        "    torch.save(model.state_dict(), model_save_path)\n",
        "\n",
        "    model.eval()\n",
        "    with torch.no_grad():\n",
        "        model_scripted = torch.jit.script(model)  # Export to TorchScript\n",
        "        model_scripted.save(f\"{model_save_path.replace('.pt','_jit.pt')}\")  # Jit Save\n",
        "\n",
        "    print(f\"Model saved to :{model_save_path}\")\n",
        "    print(f\"Time elapsed: {time.time() - start} seconds.\")\n",
        "\n",
        "\n",
        "def main(\n",
        "    aug_data: bool = False,\n",
        "    find_batch: bool = False,\n",
        "    find_lr_rate: bool = False,\n",
        "    use_wandb: bool = True,\n",
        "    use_ipex=True,\n",
        "):\n",
        "    \"\"\"\n",
        "    Main function to execute the fine-tuning process.\n",
        "\n",
        "    Args:\n",
        "        aug_data (bool, optional): Whether to augment data. Defaults to False.\n",
        "        find_batch (bool, optional): Whether to find optimal batch size. Defaults to False.\n",
        "        find_lr_rate (bool, optional): Whether to find optimal learning rate. Defaults to False.\n",
        "    \"\"\"\n",
        "#    import os\n",
        "#    os.environ['WANDB_EXECUTABLE'] = '~/.conda/envs/PT/bin/python'\n",
        "\n",
        "    set_seed(42)\n",
        "    print(f\"Train folder {TRAIN_DIR}\")\n",
        "    print(f\"Validation folder {VALID_DIR}\")\n",
        "    print(f\"Using epoch: {EPOCHS}\")\n",
        "    print(f\"Using Dropout: {DROPOUT}\")\n",
        "\n",
        "    batch_size = BATCH_SIZE\n",
        "\n",
        "    if aug_data:\n",
        "        print(\"Augmenting training and validation datasets...\")\n",
        "        t1 = time.time()\n",
        "        augment_and_save(TRAIN_DIR)\n",
        "        augment_and_save(VALID_DIR)\n",
        "        print(f\"Done Augmenting in {time.time() - t1} seconds...\")\n",
        "\n",
        "    model = FireFinder(simple=True, dropout=DROPOUT)\n",
        "    optimizer = optim.Adam(model.parameters(), lr=LR)\n",
        "    if find_batch:\n",
        "        print(f\"Finding optimum batch size...\")\n",
        "        batch_size = optimum_batch_size(model, input_size=(3, 224, 224))\n",
        "    print(f\"Using batch size: {batch_size}\")\n",
        "\n",
        "    best_lr = LR\n",
        "    if find_lr_rate:\n",
        "        print(\"Finding best init lr...\")\n",
        "        train_dataloader = create_dataloader(\n",
        "            TRAIN_DIR,\n",
        "            batch_size=batch_size,\n",
        "            shuffle=True,\n",
        "            transform=img_transforms[\"train\"],\n",
        "        )\n",
        "        best_lr = find_lr(model, optimizer, train_dataloader)\n",
        "        del model, optimizer\n",
        "        gc.collect()\n",
        "        if device == torch.device(\"xpu\"):\n",
        "            torch.xpu.empty_cache()\n",
        "    print(f\"Using learning rate: {best_lr}\")\n",
        "\n",
        "    model = FireFinder(simple=True, dropout=DROPOUT)\n",
        "    trainer = Trainer(\n",
        "        model=model,\n",
        "        optimizer=optim.Adam,\n",
        "        lr=best_lr,\n",
        "        epochs=EPOCHS,\n",
        "        device=cuda,\n",
        "        use_ipex=use_ipex,\n",
        "    )\n",
        "    train(model, trainer, config={\"lr\": best_lr, \"batch_size\": batch_size})\n",
        "\n",
        "if __name__ == \"__main__\":\n",
        "    main(\n",
        "        aug_data=False, find_batch=False, find_lr_rate=False, use_wandb=True, use_ipex=False\n",
        "    )"
      ],
      "metadata": {
        "colab": {
          "base_uri": "https://localhost:8080/",
          "height": 1000
        },
        "id": "78GmFeJmuj1f",
        "outputId": "eb78579b-ff9e-45a0-e03a-ea7d8df05b63"
      },
      "execution_count": 12,
      "outputs": [
        {
          "output_type": "display_data",
          "data": {
            "text/plain": [
              "<IPython.core.display.HTML object>"
            ],
            "text/html": [
              "\n",
              "            <style>\n",
              "                .geemap-dark {\n",
              "                    --jp-widgets-color: white;\n",
              "                    --jp-widgets-label-color: white;\n",
              "                    --jp-ui-font-color1: white;\n",
              "                    --jp-layout-color2: #454545;\n",
              "                    background-color: #383838;\n",
              "                }\n",
              "\n",
              "                .geemap-dark .jupyter-button {\n",
              "                    --jp-layout-color3: #383838;\n",
              "                }\n",
              "\n",
              "                .geemap-colab {\n",
              "                    background-color: var(--colab-primary-surface-color, white);\n",
              "                }\n",
              "\n",
              "                .geemap-colab .jupyter-button {\n",
              "                    --jp-layout-color3: var(--colab-primary-surface-color, white);\n",
              "                }\n",
              "            </style>\n",
              "            "
            ]
          },
          "metadata": {}
        },
        {
          "output_type": "stream",
          "name": "stdout",
          "text": [
            "Train folder data/colorEnhanced/train\n",
            "Validation folder data/colorEnhanced/val\n",
            "Using epoch: 50\n",
            "Using Dropout: 0.6\n",
            "Running in Finetuning mode.\n",
            "Using batch size: 32\n",
            "Using learning rate: 1e-06\n",
            "Running in Finetuning mode.\n",
            "training data\n"
          ]
        },
        {
          "output_type": "display_data",
          "data": {
            "text/plain": [
              "<Figure size 640x480 with 1 Axes>"
            ],
            "image/png": "[encoded data removed]"
          },
          "metadata": {}
        },
        {
          "output_type": "stream",
          "name": "stdout",
          "text": [
            "\n",
            "validation data\n"
          ]
        },
        {
          "output_type": "display_data",
          "data": {
            "text/plain": [
              "<Figure size 640x480 with 1 Axes>"
            ],
            "image/png": "[encoded data removed]"
          },
          "metadata": {}
        },
        {
          "output_type": "stream",
          "name": "stdout",
          "text": [
            "______________\n"
          ]
        },
        {
          "output_type": "stream",
          "name": "stderr",
          "text": [
            "100%|██████████| 7/7 [00:06<00:00,  1.15it/s]\n",
            "100%|██████████| 2/2 [00:00<00:00,  2.35it/s]\n"
          ]
        },
        {
          "output_type": "stream",
          "name": "stdout",
          "text": [
            "\n",
            "📅 Epoch 1/50:\n",
            "\t🏋️‍♂️ Training step:\n",
            "\t - 🎯 Loss: 0.8055, 📈 Accuracy: 0.4850\n",
            "\t🧪 Validation step:\n",
            "\t - 🎯 Loss: 0.7630, 📈 Accuracy: 0.5200\n",
            "⏱️ Time: 6.9798 sec\n",
            "\n"
          ]
        },
        {
          "output_type": "stream",
          "name": "stderr",
          "text": [
            "100%|██████████| 7/7 [00:03<00:00,  1.82it/s]\n",
            "100%|██████████| 2/2 [00:00<00:00,  2.36it/s]\n"
          ]
        },
        {
          "output_type": "stream",
          "name": "stdout",
          "text": [
            "\n",
            "📅 Epoch 2/50:\n",
            "\t🏋️‍♂️ Training step:\n",
            "\t - 🎯 Loss: 0.7944, 📈 Accuracy: 0.4300\n",
            "\t🧪 Validation step:\n",
            "\t - 🎯 Loss: 0.7928, 📈 Accuracy: 0.5000\n",
            "⏱️ Time: 4.7075 sec\n",
            "\n"
          ]
        },
        {
          "output_type": "stream",
          "name": "stderr",
          "text": [
            "100%|██████████| 7/7 [00:04<00:00,  1.51it/s]\n",
            "100%|██████████| 2/2 [00:01<00:00,  1.95it/s]\n"
          ]
        },
        {
          "output_type": "stream",
          "name": "stdout",
          "text": [
            "\n",
            "📅 Epoch 3/50:\n",
            "\t🏋️‍♂️ Training step:\n",
            "\t - 🎯 Loss: 0.7716, 📈 Accuracy: 0.4600\n",
            "\t🧪 Validation step:\n",
            "\t - 🎯 Loss: 0.8255, 📈 Accuracy: 0.4000\n",
            "⏱️ Time: 5.6683 sec\n",
            "\n"
          ]
        },
        {
          "output_type": "stream",
          "name": "stderr",
          "text": [
            "100%|██████████| 7/7 [00:03<00:00,  1.79it/s]\n",
            "100%|██████████| 2/2 [00:00<00:00,  2.35it/s]\n"
          ]
        },
        {
          "output_type": "stream",
          "name": "stdout",
          "text": [
            "\n",
            "📅 Epoch 4/50:\n",
            "\t🏋️‍♂️ Training step:\n",
            "\t - 🎯 Loss: 0.7578, 📈 Accuracy: 0.4950\n",
            "\t🧪 Validation step:\n",
            "\t - 🎯 Loss: 0.8259, 📈 Accuracy: 0.4000\n",
            "⏱️ Time: 4.7712 sec\n",
            "\n"
          ]
        },
        {
          "output_type": "stream",
          "name": "stderr",
          "text": [
            "100%|██████████| 7/7 [00:03<00:00,  1.78it/s]\n",
            "100%|██████████| 2/2 [00:00<00:00,  2.31it/s]\n"
          ]
        },
        {
          "output_type": "stream",
          "name": "stdout",
          "text": [
            "\n",
            "📅 Epoch 5/50:\n",
            "\t🏋️‍♂️ Training step:\n",
            "\t - 🎯 Loss: 0.7291, 📈 Accuracy: 0.5050\n",
            "\t🧪 Validation step:\n",
            "\t - 🎯 Loss: 0.8123, 📈 Accuracy: 0.4000\n",
            "⏱️ Time: 4.8115 sec\n",
            "\n"
          ]
        },
        {
          "output_type": "stream",
          "name": "stderr",
          "text": [
            "100%|██████████| 7/7 [00:04<00:00,  1.49it/s]\n",
            "100%|██████████| 2/2 [00:00<00:00,  2.35it/s]\n"
          ]
        },
        {
          "output_type": "stream",
          "name": "stdout",
          "text": [
            "\n",
            "📅 Epoch 6/50:\n",
            "\t🏋️‍♂️ Training step:\n",
            "\t - 🎯 Loss: 0.7497, 📈 Accuracy: 0.5150\n",
            "\t🧪 Validation step:\n",
            "\t - 🎯 Loss: 0.8138, 📈 Accuracy: 0.3800\n",
            "⏱️ Time: 5.5645 sec\n",
            "\n"
          ]
        },
        {
          "output_type": "stream",
          "name": "stderr",
          "text": [
            "100%|██████████| 7/7 [00:03<00:00,  1.82it/s]\n",
            "100%|██████████| 2/2 [00:00<00:00,  2.36it/s]\n"
          ]
        },
        {
          "output_type": "stream",
          "name": "stdout",
          "text": [
            "\n",
            "📅 Epoch 7/50:\n",
            "\t🏋️‍♂️ Training step:\n",
            "\t - 🎯 Loss: 0.7039, 📈 Accuracy: 0.5250\n",
            "\t🧪 Validation step:\n",
            "\t - 🎯 Loss: 0.8093, 📈 Accuracy: 0.4200\n",
            "⏱️ Time: 4.7041 sec\n",
            "\n"
          ]
        },
        {
          "output_type": "stream",
          "name": "stderr",
          "text": [
            "100%|██████████| 7/7 [00:04<00:00,  1.62it/s]\n",
            "100%|██████████| 2/2 [00:01<00:00,  1.75it/s]\n"
          ]
        },
        {
          "output_type": "stream",
          "name": "stdout",
          "text": [
            "\n",
            "📅 Epoch 8/50:\n",
            "\t🏋️‍♂️ Training step:\n",
            "\t - 🎯 Loss: 0.6769, 📈 Accuracy: 0.5800\n",
            "\t🧪 Validation step:\n",
            "\t - 🎯 Loss: 0.8033, 📈 Accuracy: 0.4000\n",
            "⏱️ Time: 5.4824 sec\n",
            "\n"
          ]
        },
        {
          "output_type": "stream",
          "name": "stderr",
          "text": [
            "100%|██████████| 7/7 [00:03<00:00,  1.80it/s]\n",
            "100%|██████████| 2/2 [00:00<00:00,  2.37it/s]\n"
          ]
        },
        {
          "output_type": "stream",
          "name": "stdout",
          "text": [
            "\n",
            "📅 Epoch 9/50:\n",
            "\t🏋️‍♂️ Training step:\n",
            "\t - 🎯 Loss: 0.7059, 📈 Accuracy: 0.5550\n",
            "\t🧪 Validation step:\n",
            "\t - 🎯 Loss: 0.7982, 📈 Accuracy: 0.4000\n",
            "⏱️ Time: 4.7567 sec\n",
            "\n"
          ]
        },
        {
          "output_type": "stream",
          "name": "stderr",
          "text": [
            "100%|██████████| 7/7 [00:03<00:00,  1.78it/s]\n",
            "100%|██████████| 2/2 [00:00<00:00,  2.39it/s]\n"
          ]
        },
        {
          "output_type": "stream",
          "name": "stdout",
          "text": [
            "\n",
            "📅 Epoch 10/50:\n",
            "\t🏋️‍♂️ Training step:\n",
            "\t - 🎯 Loss: 0.6652, 📈 Accuracy: 0.6000\n",
            "\t🧪 Validation step:\n",
            "\t - 🎯 Loss: 0.7769, 📈 Accuracy: 0.4200\n",
            "⏱️ Time: 4.7951 sec\n",
            "\n"
          ]
        },
        {
          "output_type": "stream",
          "name": "stderr",
          "text": [
            "100%|██████████| 7/7 [00:04<00:00,  1.46it/s]\n",
            "100%|██████████| 2/2 [00:01<00:00,  1.66it/s]\n"
          ]
        },
        {
          "output_type": "stream",
          "name": "stdout",
          "text": [
            "\n",
            "📅 Epoch 11/50:\n",
            "\t🏋️‍♂️ Training step:\n",
            "\t - 🎯 Loss: 0.6338, 📈 Accuracy: 0.6200\n",
            "\t🧪 Validation step:\n",
            "\t - 🎯 Loss: 0.7630, 📈 Accuracy: 0.4000\n",
            "⏱️ Time: 6.0350 sec\n",
            "\n"
          ]
        },
        {
          "output_type": "stream",
          "name": "stderr",
          "text": [
            "100%|██████████| 7/7 [00:04<00:00,  1.62it/s]\n",
            "100%|██████████| 2/2 [00:00<00:00,  2.36it/s]\n"
          ]
        },
        {
          "output_type": "stream",
          "name": "stdout",
          "text": [
            "\n",
            "📅 Epoch 12/50:\n",
            "\t🏋️‍♂️ Training step:\n",
            "\t - 🎯 Loss: 0.6331, 📈 Accuracy: 0.6200\n",
            "\t🧪 Validation step:\n",
            "\t - 🎯 Loss: 0.7509, 📈 Accuracy: 0.4000\n",
            "⏱️ Time: 5.1766 sec\n",
            "\n"
          ]
        },
        {
          "output_type": "stream",
          "name": "stderr",
          "text": [
            "100%|██████████| 7/7 [00:04<00:00,  1.56it/s]\n",
            "100%|██████████| 2/2 [00:00<00:00,  2.24it/s]\n"
          ]
        },
        {
          "output_type": "stream",
          "name": "stdout",
          "text": [
            "\n",
            "📅 Epoch 13/50:\n",
            "\t🏋️‍♂️ Training step:\n",
            "\t - 🎯 Loss: 0.6188, 📈 Accuracy: 0.6050\n",
            "\t🧪 Validation step:\n",
            "\t - 🎯 Loss: 0.7415, 📈 Accuracy: 0.4800\n",
            "⏱️ Time: 5.4072 sec\n",
            "\n"
          ]
        },
        {
          "output_type": "stream",
          "name": "stderr",
          "text": [
            "100%|██████████| 7/7 [00:03<00:00,  1.77it/s]\n",
            "100%|██████████| 2/2 [00:00<00:00,  2.33it/s]\n"
          ]
        },
        {
          "output_type": "stream",
          "name": "stdout",
          "text": [
            "\n",
            "📅 Epoch 14/50:\n",
            "\t🏋️‍♂️ Training step:\n",
            "\t - 🎯 Loss: 0.6016, 📈 Accuracy: 0.6450\n",
            "\t🧪 Validation step:\n",
            "\t - 🎯 Loss: 0.7352, 📈 Accuracy: 0.4800\n",
            "⏱️ Time: 4.8199 sec\n",
            "\n"
          ]
        },
        {
          "output_type": "stream",
          "name": "stderr",
          "text": [
            "100%|██████████| 7/7 [00:03<00:00,  1.78it/s]\n",
            "100%|██████████| 2/2 [00:01<00:00,  1.96it/s]\n"
          ]
        },
        {
          "output_type": "stream",
          "name": "stdout",
          "text": [
            "\n",
            "📅 Epoch 15/50:\n",
            "\t🏋️‍♂️ Training step:\n",
            "\t - 🎯 Loss: 0.6054, 📈 Accuracy: 0.6200\n",
            "\t🧪 Validation step:\n",
            "\t - 🎯 Loss: 0.7167, 📈 Accuracy: 0.4600\n",
            "⏱️ Time: 4.9706 sec\n",
            "\n"
          ]
        },
        {
          "output_type": "stream",
          "name": "stderr",
          "text": [
            "100%|██████████| 7/7 [00:04<00:00,  1.50it/s]\n",
            "100%|██████████| 2/2 [00:00<00:00,  2.34it/s]\n"
          ]
        },
        {
          "output_type": "stream",
          "name": "stdout",
          "text": [
            "\n",
            "📅 Epoch 16/50:\n",
            "\t🏋️‍♂️ Training step:\n",
            "\t - 🎯 Loss: 0.5837, 📈 Accuracy: 0.6850\n",
            "\t🧪 Validation step:\n",
            "\t - 🎯 Loss: 0.7077, 📈 Accuracy: 0.4400\n",
            "⏱️ Time: 5.5259 sec\n",
            "\n"
          ]
        },
        {
          "output_type": "stream",
          "name": "stderr",
          "text": [
            "100%|██████████| 7/7 [00:03<00:00,  1.78it/s]\n",
            "100%|██████████| 2/2 [00:00<00:00,  2.36it/s]\n"
          ]
        },
        {
          "output_type": "stream",
          "name": "stdout",
          "text": [
            "\n",
            "📅 Epoch 17/50:\n",
            "\t🏋️‍♂️ Training step:\n",
            "\t - 🎯 Loss: 0.5756, 📈 Accuracy: 0.7150\n",
            "\t🧪 Validation step:\n",
            "\t - 🎯 Loss: 0.7008, 📈 Accuracy: 0.5200\n",
            "⏱️ Time: 4.8043 sec\n",
            "\n"
          ]
        },
        {
          "output_type": "stream",
          "name": "stderr",
          "text": [
            "100%|██████████| 7/7 [00:04<00:00,  1.52it/s]\n",
            "100%|██████████| 2/2 [00:00<00:00,  2.07it/s]\n"
          ]
        },
        {
          "output_type": "stream",
          "name": "stdout",
          "text": [
            "\n",
            "📅 Epoch 18/50:\n",
            "\t🏋️‍♂️ Training step:\n",
            "\t - 🎯 Loss: 0.5395, 📈 Accuracy: 0.7250\n",
            "\t🧪 Validation step:\n",
            "\t - 🎯 Loss: 0.6911, 📈 Accuracy: 0.5400\n",
            "⏱️ Time: 5.5913 sec\n",
            "\n"
          ]
        },
        {
          "output_type": "stream",
          "name": "stderr",
          "text": [
            "100%|██████████| 7/7 [00:03<00:00,  1.82it/s]\n",
            "100%|██████████| 2/2 [00:00<00:00,  2.32it/s]\n"
          ]
        },
        {
          "output_type": "stream",
          "name": "stdout",
          "text": [
            "\n",
            "📅 Epoch 19/50:\n",
            "\t🏋️‍♂️ Training step:\n",
            "\t - 🎯 Loss: 0.5663, 📈 Accuracy: 0.7000\n",
            "\t🧪 Validation step:\n",
            "\t - 🎯 Loss: 0.6787, 📈 Accuracy: 0.5400\n",
            "⏱️ Time: 4.7303 sec\n",
            "\n"
          ]
        },
        {
          "output_type": "stream",
          "name": "stderr",
          "text": [
            "100%|██████████| 7/7 [00:03<00:00,  1.79it/s]\n",
            "100%|██████████| 2/2 [00:00<00:00,  2.29it/s]\n"
          ]
        },
        {
          "output_type": "stream",
          "name": "stdout",
          "text": [
            "\n",
            "📅 Epoch 20/50:\n",
            "\t🏋️‍♂️ Training step:\n",
            "\t - 🎯 Loss: 0.5399, 📈 Accuracy: 0.7400\n",
            "\t🧪 Validation step:\n",
            "\t - 🎯 Loss: 0.6770, 📈 Accuracy: 0.5200\n",
            "⏱️ Time: 4.8026 sec\n",
            "\n"
          ]
        },
        {
          "output_type": "stream",
          "name": "stderr",
          "text": [
            "100%|██████████| 7/7 [00:04<00:00,  1.50it/s]\n",
            "100%|██████████| 2/2 [00:00<00:00,  2.34it/s]\n"
          ]
        },
        {
          "output_type": "stream",
          "name": "stdout",
          "text": [
            "\n",
            "📅 Epoch 21/50:\n",
            "\t🏋️‍♂️ Training step:\n",
            "\t - 🎯 Loss: 0.5433, 📈 Accuracy: 0.7400\n",
            "\t🧪 Validation step:\n",
            "\t - 🎯 Loss: 0.6590, 📈 Accuracy: 0.5800\n",
            "⏱️ Time: 5.5247 sec\n",
            "\n"
          ]
        },
        {
          "output_type": "stream",
          "name": "stderr",
          "text": [
            "100%|██████████| 7/7 [00:03<00:00,  1.82it/s]\n",
            "100%|██████████| 2/2 [00:00<00:00,  2.32it/s]\n"
          ]
        },
        {
          "output_type": "stream",
          "name": "stdout",
          "text": [
            "\n",
            "📅 Epoch 22/50:\n",
            "\t🏋️‍♂️ Training step:\n",
            "\t - 🎯 Loss: 0.5278, 📈 Accuracy: 0.7350\n",
            "\t🧪 Validation step:\n",
            "\t - 🎯 Loss: 0.6565, 📈 Accuracy: 0.5800\n",
            "⏱️ Time: 4.7332 sec\n",
            "\n"
          ]
        },
        {
          "output_type": "stream",
          "name": "stderr",
          "text": [
            "100%|██████████| 7/7 [00:04<00:00,  1.61it/s]\n",
            "100%|██████████| 2/2 [00:01<00:00,  1.78it/s]\n"
          ]
        },
        {
          "output_type": "stream",
          "name": "stdout",
          "text": [
            "\n",
            "📅 Epoch 23/50:\n",
            "\t🏋️‍♂️ Training step:\n",
            "\t - 🎯 Loss: 0.5194, 📈 Accuracy: 0.7000\n",
            "\t🧪 Validation step:\n",
            "\t - 🎯 Loss: 0.6475, 📈 Accuracy: 0.5800\n",
            "⏱️ Time: 5.4937 sec\n",
            "\n"
          ]
        },
        {
          "output_type": "stream",
          "name": "stderr",
          "text": [
            "100%|██████████| 7/7 [00:03<00:00,  1.76it/s]\n",
            "100%|██████████| 2/2 [00:00<00:00,  2.31it/s]\n"
          ]
        },
        {
          "output_type": "stream",
          "name": "stdout",
          "text": [
            "\n",
            "📅 Epoch 24/50:\n",
            "\t🏋️‍♂️ Training step:\n",
            "\t - 🎯 Loss: 0.5326, 📈 Accuracy: 0.7300\n",
            "\t🧪 Validation step:\n",
            "\t - 🎯 Loss: 0.6344, 📈 Accuracy: 0.5800\n",
            "⏱️ Time: 4.8567 sec\n",
            "\n"
          ]
        },
        {
          "output_type": "stream",
          "name": "stderr",
          "text": [
            "100%|██████████| 7/7 [00:03<00:00,  1.80it/s]\n",
            "100%|██████████| 2/2 [00:00<00:00,  2.30it/s]\n"
          ]
        },
        {
          "output_type": "stream",
          "name": "stdout",
          "text": [
            "\n",
            "📅 Epoch 25/50:\n",
            "\t🏋️‍♂️ Training step:\n",
            "\t - 🎯 Loss: 0.5045, 📈 Accuracy: 0.7850\n",
            "\t🧪 Validation step:\n",
            "\t - 🎯 Loss: 0.6322, 📈 Accuracy: 0.6000\n",
            "⏱️ Time: 4.7691 sec\n",
            "\n"
          ]
        },
        {
          "output_type": "stream",
          "name": "stderr",
          "text": [
            "100%|██████████| 7/7 [00:04<00:00,  1.53it/s]\n",
            "100%|██████████| 2/2 [00:00<00:00,  2.38it/s]\n"
          ]
        },
        {
          "output_type": "stream",
          "name": "stdout",
          "text": [
            "\n",
            "📅 Epoch 26/50:\n",
            "\t🏋️‍♂️ Training step:\n",
            "\t - 🎯 Loss: 0.4816, 📈 Accuracy: 0.7950\n",
            "\t🧪 Validation step:\n",
            "\t - 🎯 Loss: 0.6151, 📈 Accuracy: 0.6400\n",
            "⏱️ Time: 5.4317 sec\n",
            "\n"
          ]
        },
        {
          "output_type": "stream",
          "name": "stderr",
          "text": [
            "100%|██████████| 7/7 [00:03<00:00,  1.82it/s]\n",
            "100%|██████████| 2/2 [00:00<00:00,  2.35it/s]\n"
          ]
        },
        {
          "output_type": "stream",
          "name": "stdout",
          "text": [
            "\n",
            "📅 Epoch 27/50:\n",
            "\t🏋️‍♂️ Training step:\n",
            "\t - 🎯 Loss: 0.5077, 📈 Accuracy: 0.7950\n",
            "\t🧪 Validation step:\n",
            "\t - 🎯 Loss: 0.6048, 📈 Accuracy: 0.6600\n",
            "⏱️ Time: 4.7103 sec\n",
            "\n"
          ]
        },
        {
          "output_type": "stream",
          "name": "stderr",
          "text": [
            "100%|██████████| 7/7 [00:04<00:00,  1.57it/s]\n",
            "100%|██████████| 2/2 [00:01<00:00,  1.71it/s]\n"
          ]
        },
        {
          "output_type": "stream",
          "name": "stdout",
          "text": [
            "\n",
            "📅 Epoch 28/50:\n",
            "\t🏋️‍♂️ Training step:\n",
            "\t - 🎯 Loss: 0.4560, 📈 Accuracy: 0.8350\n",
            "\t🧪 Validation step:\n",
            "\t - 🎯 Loss: 0.6003, 📈 Accuracy: 0.6400\n",
            "⏱️ Time: 5.6383 sec\n",
            "\n"
          ]
        },
        {
          "output_type": "stream",
          "name": "stderr",
          "text": [
            "100%|██████████| 7/7 [00:03<00:00,  1.78it/s]\n",
            "100%|██████████| 2/2 [00:00<00:00,  2.33it/s]\n"
          ]
        },
        {
          "output_type": "stream",
          "name": "stdout",
          "text": [
            "\n",
            "📅 Epoch 29/50:\n",
            "\t🏋️‍♂️ Training step:\n",
            "\t - 🎯 Loss: 0.4532, 📈 Accuracy: 0.8250\n",
            "\t🧪 Validation step:\n",
            "\t - 🎯 Loss: 0.5927, 📈 Accuracy: 0.6800\n",
            "⏱️ Time: 4.8093 sec\n",
            "\n"
          ]
        },
        {
          "output_type": "stream",
          "name": "stderr",
          "text": [
            "100%|██████████| 7/7 [00:03<00:00,  1.80it/s]\n",
            "100%|██████████| 2/2 [00:00<00:00,  2.36it/s]\n"
          ]
        },
        {
          "output_type": "stream",
          "name": "stdout",
          "text": [
            "\n",
            "📅 Epoch 30/50:\n",
            "\t🏋️‍♂️ Training step:\n",
            "\t - 🎯 Loss: 0.5009, 📈 Accuracy: 0.7900\n",
            "\t🧪 Validation step:\n",
            "\t - 🎯 Loss: 0.5793, 📈 Accuracy: 0.7400\n",
            "⏱️ Time: 4.7451 sec\n",
            "\n"
          ]
        },
        {
          "output_type": "stream",
          "name": "stderr",
          "text": [
            "100%|██████████| 7/7 [00:04<00:00,  1.48it/s]\n",
            "100%|██████████| 2/2 [00:00<00:00,  2.32it/s]\n"
          ]
        },
        {
          "output_type": "stream",
          "name": "stdout",
          "text": [
            "\n",
            "📅 Epoch 31/50:\n",
            "\t🏋️‍♂️ Training step:\n",
            "\t - 🎯 Loss: 0.4449, 📈 Accuracy: 0.8250\n",
            "\t🧪 Validation step:\n",
            "\t - 🎯 Loss: 0.5702, 📈 Accuracy: 0.7200\n",
            "⏱️ Time: 5.5906 sec\n",
            "\n"
          ]
        },
        {
          "output_type": "stream",
          "name": "stderr",
          "text": [
            "100%|██████████| 7/7 [00:03<00:00,  1.79it/s]\n",
            "100%|██████████| 2/2 [00:00<00:00,  2.30it/s]\n"
          ]
        },
        {
          "output_type": "stream",
          "name": "stdout",
          "text": [
            "\n",
            "📅 Epoch 32/50:\n",
            "\t🏋️‍♂️ Training step:\n",
            "\t - 🎯 Loss: 0.4420, 📈 Accuracy: 0.8650\n",
            "\t🧪 Validation step:\n",
            "\t - 🎯 Loss: 0.5608, 📈 Accuracy: 0.7400\n",
            "⏱️ Time: 4.7934 sec\n",
            "\n"
          ]
        },
        {
          "output_type": "stream",
          "name": "stderr",
          "text": [
            "100%|██████████| 7/7 [00:04<00:00,  1.62it/s]\n",
            "100%|██████████| 2/2 [00:01<00:00,  1.67it/s]\n"
          ]
        },
        {
          "output_type": "stream",
          "name": "stdout",
          "text": [
            "\n",
            "📅 Epoch 33/50:\n",
            "\t🏋️‍♂️ Training step:\n",
            "\t - 🎯 Loss: 0.4330, 📈 Accuracy: 0.8700\n",
            "\t🧪 Validation step:\n",
            "\t - 🎯 Loss: 0.5627, 📈 Accuracy: 0.7600\n",
            "⏱️ Time: 5.5290 sec\n",
            "\n"
          ]
        },
        {
          "output_type": "stream",
          "name": "stderr",
          "text": [
            "100%|██████████| 7/7 [00:04<00:00,  1.71it/s]\n",
            "100%|██████████| 2/2 [00:00<00:00,  2.36it/s]\n"
          ]
        },
        {
          "output_type": "stream",
          "name": "stdout",
          "text": [
            "\n",
            "📅 Epoch 34/50:\n",
            "\t🏋️‍♂️ Training step:\n",
            "\t - 🎯 Loss: 0.4380, 📈 Accuracy: 0.8400\n",
            "\t🧪 Validation step:\n",
            "\t - 🎯 Loss: 0.5503, 📈 Accuracy: 0.7600\n",
            "⏱️ Time: 4.9674 sec\n",
            "\n"
          ]
        },
        {
          "output_type": "stream",
          "name": "stderr",
          "text": [
            "100%|██████████| 7/7 [00:03<00:00,  1.82it/s]\n",
            "100%|██████████| 2/2 [00:00<00:00,  2.32it/s]\n"
          ]
        },
        {
          "output_type": "stream",
          "name": "stdout",
          "text": [
            "\n",
            "📅 Epoch 35/50:\n",
            "\t🏋️‍♂️ Training step:\n",
            "\t - 🎯 Loss: 0.4288, 📈 Accuracy: 0.8800\n",
            "\t🧪 Validation step:\n",
            "\t - 🎯 Loss: 0.5404, 📈 Accuracy: 0.8200\n",
            "⏱️ Time: 4.7153 sec\n",
            "\n"
          ]
        },
        {
          "output_type": "stream",
          "name": "stderr",
          "text": [
            "100%|██████████| 7/7 [00:04<00:00,  1.47it/s]\n",
            "100%|██████████| 2/2 [00:00<00:00,  2.34it/s]\n"
          ]
        },
        {
          "output_type": "stream",
          "name": "stdout",
          "text": [
            "\n",
            "📅 Epoch 36/50:\n",
            "\t🏋️‍♂️ Training step:\n",
            "\t - 🎯 Loss: 0.3812, 📈 Accuracy: 0.8750\n",
            "\t🧪 Validation step:\n",
            "\t - 🎯 Loss: 0.5253, 📈 Accuracy: 0.7800\n",
            "⏱️ Time: 5.6191 sec\n",
            "\n"
          ]
        },
        {
          "output_type": "stream",
          "name": "stderr",
          "text": [
            "100%|██████████| 7/7 [00:03<00:00,  1.80it/s]\n",
            "100%|██████████| 2/2 [00:00<00:00,  2.37it/s]\n"
          ]
        },
        {
          "output_type": "stream",
          "name": "stdout",
          "text": [
            "\n",
            "📅 Epoch 37/50:\n",
            "\t🏋️‍♂️ Training step:\n",
            "\t - 🎯 Loss: 0.4039, 📈 Accuracy: 0.8700\n",
            "\t🧪 Validation step:\n",
            "\t - 🎯 Loss: 0.5198, 📈 Accuracy: 0.7800\n",
            "⏱️ Time: 4.7479 sec\n",
            "\n"
          ]
        },
        {
          "output_type": "stream",
          "name": "stderr",
          "text": [
            "100%|██████████| 7/7 [00:04<00:00,  1.74it/s]\n",
            "100%|██████████| 2/2 [00:01<00:00,  1.66it/s]\n"
          ]
        },
        {
          "output_type": "stream",
          "name": "stdout",
          "text": [
            "\n",
            "📅 Epoch 38/50:\n",
            "\t🏋️‍♂️ Training step:\n",
            "\t - 🎯 Loss: 0.4064, 📈 Accuracy: 0.8700\n",
            "\t🧪 Validation step:\n",
            "\t - 🎯 Loss: 0.5145, 📈 Accuracy: 0.8200\n",
            "⏱️ Time: 5.2341 sec\n",
            "\n"
          ]
        },
        {
          "output_type": "stream",
          "name": "stderr",
          "text": [
            "100%|██████████| 7/7 [00:04<00:00,  1.63it/s]\n",
            "100%|██████████| 2/2 [00:00<00:00,  2.31it/s]\n"
          ]
        },
        {
          "output_type": "stream",
          "name": "stdout",
          "text": [
            "\n",
            "📅 Epoch 39/50:\n",
            "\t🏋️‍♂️ Training step:\n",
            "\t - 🎯 Loss: 0.4194, 📈 Accuracy: 0.8900\n",
            "\t🧪 Validation step:\n",
            "\t - 🎯 Loss: 0.5111, 📈 Accuracy: 0.8200\n",
            "⏱️ Time: 5.1703 sec\n",
            "\n"
          ]
        },
        {
          "output_type": "stream",
          "name": "stderr",
          "text": [
            "100%|██████████| 7/7 [00:04<00:00,  1.75it/s]\n",
            "100%|██████████| 2/2 [00:00<00:00,  2.34it/s]\n"
          ]
        },
        {
          "output_type": "stream",
          "name": "stdout",
          "text": [
            "\n",
            "📅 Epoch 40/50:\n",
            "\t🏋️‍♂️ Training step:\n",
            "\t - 🎯 Loss: 0.3627, 📈 Accuracy: 0.9100\n",
            "\t🧪 Validation step:\n",
            "\t - 🎯 Loss: 0.5144, 📈 Accuracy: 0.8200\n",
            "⏱️ Time: 4.8741 sec\n",
            "\n"
          ]
        },
        {
          "output_type": "stream",
          "name": "stderr",
          "text": [
            "100%|██████████| 7/7 [00:04<00:00,  1.49it/s]\n",
            "100%|██████████| 2/2 [00:00<00:00,  2.29it/s]\n"
          ]
        },
        {
          "output_type": "stream",
          "name": "stdout",
          "text": [
            "\n",
            "📅 Epoch 41/50:\n",
            "\t🏋️‍♂️ Training step:\n",
            "\t - 🎯 Loss: 0.3607, 📈 Accuracy: 0.9450\n",
            "\t🧪 Validation step:\n",
            "\t - 🎯 Loss: 0.5027, 📈 Accuracy: 0.8200\n",
            "⏱️ Time: 5.5947 sec\n",
            "\n"
          ]
        },
        {
          "output_type": "stream",
          "name": "stderr",
          "text": [
            "100%|██████████| 7/7 [00:03<00:00,  1.79it/s]\n",
            "100%|██████████| 2/2 [00:00<00:00,  2.33it/s]\n"
          ]
        },
        {
          "output_type": "stream",
          "name": "stdout",
          "text": [
            "\n",
            "📅 Epoch 42/50:\n",
            "\t🏋️‍♂️ Training step:\n",
            "\t - 🎯 Loss: 0.3720, 📈 Accuracy: 0.9000\n",
            "\t🧪 Validation step:\n",
            "\t - 🎯 Loss: 0.4949, 📈 Accuracy: 0.8200\n",
            "⏱️ Time: 4.7812 sec\n",
            "\n"
          ]
        },
        {
          "output_type": "stream",
          "name": "stderr",
          "text": [
            "100%|██████████| 7/7 [00:03<00:00,  1.78it/s]\n",
            "100%|██████████| 2/2 [00:01<00:00,  1.67it/s]\n"
          ]
        },
        {
          "output_type": "stream",
          "name": "stdout",
          "text": [
            "\n",
            "📅 Epoch 43/50:\n",
            "\t🏋️‍♂️ Training step:\n",
            "\t - 🎯 Loss: 0.3715, 📈 Accuracy: 0.8900\n",
            "\t🧪 Validation step:\n",
            "\t - 🎯 Loss: 0.4919, 📈 Accuracy: 0.8200\n",
            "⏱️ Time: 5.1452 sec\n",
            "\n"
          ]
        },
        {
          "output_type": "stream",
          "name": "stderr",
          "text": [
            "100%|██████████| 7/7 [00:04<00:00,  1.60it/s]\n",
            "100%|██████████| 2/2 [00:00<00:00,  2.34it/s]\n"
          ]
        },
        {
          "output_type": "stream",
          "name": "stdout",
          "text": [
            "\n",
            "📅 Epoch 44/50:\n",
            "\t🏋️‍♂️ Training step:\n",
            "\t - 🎯 Loss: 0.3827, 📈 Accuracy: 0.9150\n",
            "\t🧪 Validation step:\n",
            "\t - 🎯 Loss: 0.4883, 📈 Accuracy: 0.8200\n",
            "⏱️ Time: 5.2493 sec\n",
            "\n"
          ]
        },
        {
          "output_type": "stream",
          "name": "stderr",
          "text": [
            "100%|██████████| 7/7 [00:03<00:00,  1.78it/s]\n",
            "100%|██████████| 2/2 [00:00<00:00,  2.34it/s]\n"
          ]
        },
        {
          "output_type": "stream",
          "name": "stdout",
          "text": [
            "\n",
            "📅 Epoch 45/50:\n",
            "\t🏋️‍♂️ Training step:\n",
            "\t - 🎯 Loss: 0.3448, 📈 Accuracy: 0.9200\n",
            "\t🧪 Validation step:\n",
            "\t - 🎯 Loss: 0.4829, 📈 Accuracy: 0.8400\n",
            "⏱️ Time: 4.8099 sec\n",
            "\n"
          ]
        },
        {
          "output_type": "stream",
          "name": "stderr",
          "text": [
            "100%|██████████| 7/7 [00:04<00:00,  1.48it/s]\n",
            "100%|██████████| 2/2 [00:00<00:00,  2.35it/s]\n"
          ]
        },
        {
          "output_type": "stream",
          "name": "stdout",
          "text": [
            "\n",
            "📅 Epoch 46/50:\n",
            "\t🏋️‍♂️ Training step:\n",
            "\t - 🎯 Loss: 0.3470, 📈 Accuracy: 0.9150\n",
            "\t🧪 Validation step:\n",
            "\t - 🎯 Loss: 0.4712, 📈 Accuracy: 0.8600\n",
            "⏱️ Time: 5.5891 sec\n",
            "\n"
          ]
        },
        {
          "output_type": "stream",
          "name": "stderr",
          "text": [
            "100%|██████████| 7/7 [00:03<00:00,  1.79it/s]\n",
            "100%|██████████| 2/2 [00:00<00:00,  2.33it/s]\n"
          ]
        },
        {
          "output_type": "stream",
          "name": "stdout",
          "text": [
            "\n",
            "📅 Epoch 47/50:\n",
            "\t🏋️‍♂️ Training step:\n",
            "\t - 🎯 Loss: 0.3662, 📈 Accuracy: 0.9250\n",
            "\t🧪 Validation step:\n",
            "\t - 🎯 Loss: 0.4615, 📈 Accuracy: 0.8600\n",
            "⏱️ Time: 4.7888 sec\n",
            "\n"
          ]
        },
        {
          "output_type": "stream",
          "name": "stderr",
          "text": [
            "100%|██████████| 7/7 [00:03<00:00,  1.79it/s]\n",
            "100%|██████████| 2/2 [00:01<00:00,  1.78it/s]\n"
          ]
        },
        {
          "output_type": "stream",
          "name": "stdout",
          "text": [
            "\n",
            "📅 Epoch 48/50:\n",
            "\t🏋️‍♂️ Training step:\n",
            "\t - 🎯 Loss: 0.3306, 📈 Accuracy: 0.9150\n",
            "\t🧪 Validation step:\n",
            "\t - 🎯 Loss: 0.4567, 📈 Accuracy: 0.8600\n",
            "⏱️ Time: 5.0598 sec\n",
            "\n"
          ]
        },
        {
          "output_type": "stream",
          "name": "stderr",
          "text": [
            "100%|██████████| 7/7 [00:04<00:00,  1.59it/s]\n",
            "100%|██████████| 2/2 [00:00<00:00,  2.33it/s]\n"
          ]
        },
        {
          "output_type": "stream",
          "name": "stdout",
          "text": [
            "\n",
            "📅 Epoch 49/50:\n",
            "\t🏋️‍♂️ Training step:\n",
            "\t - 🎯 Loss: 0.3457, 📈 Accuracy: 0.9050\n",
            "\t🧪 Validation step:\n",
            "\t - 🎯 Loss: 0.4571, 📈 Accuracy: 0.8600\n",
            "⏱️ Time: 5.2614 sec\n",
            "\n"
          ]
        },
        {
          "output_type": "stream",
          "name": "stderr",
          "text": [
            "100%|██████████| 7/7 [00:03<00:00,  1.78it/s]\n",
            "100%|██████████| 2/2 [00:00<00:00,  2.35it/s]\n"
          ]
        },
        {
          "output_type": "stream",
          "name": "stdout",
          "text": [
            "\n",
            "📅 Epoch 50/50:\n",
            "\t🏋️‍♂️ Training step:\n",
            "\t - 🎯 Loss: 0.3242, 📈 Accuracy: 0.9550\n",
            "\t🧪 Validation step:\n",
            "\t - 🎯 Loss: 0.4489, 📈 Accuracy: 0.8600\n",
            "⏱️ Time: 4.7902 sec\n",
            "\n",
            "Model saved to :./models/model_acc_86_device_xpu_lr_1e-06_epochs_50.pt\n",
            "Time elapsed: 257.57287883758545 seconds.\n"
          ]
        }
      ]
    },
    {
      "cell_type": "markdown",
      "source": [
        "### 7*7 테스트 코드"
      ],
      "metadata": {
        "id": "g76UP35MpzKM"
      }
    },
    {
      "cell_type": "code",
      "source": [
        "from PIL import Image\n",
        "import os\n",
        "import itertools\n",
        "\n",
        "# 색상 강화 설정값\n",
        "color_enhancement_values = [-0.15, -0.1, -0.05, 0, 0.05, 0.1, 0.15]\n",
        "\n",
        "# 폴더 생성 (49개의 조합에 대한 폴더)\n",
        "try:\n",
        "    for r_perc, g_perc in itertools.product(color_enhancement_values, repeat=2):\n",
        "        for category in [\"Fire\", \"NoFire\"]:\n",
        "            for data_type in [\"train\", \"val\"]:\n",
        "                os.makedirs(f'data/colorEnhanced/{data_type}/{category}_r{r_perc}_g{g_perc}', exist_ok=True)\n",
        "except FileExistsError:\n",
        "    print(\"폴더가 이미 존재합니다.\")\n",
        "\n",
        "# 색상 강화 함수 (변경 없음)\n",
        "def colorEnhancedIm(fldrIn, fn, fldrOut, r_perc, g_perc, type='png'):\n",
        "    path = fldrIn + fn\n",
        "    im = Image.open(path).convert('RGB')\n",
        "\n",
        "    # Split into 3 channels\n",
        "    r, g, b = im.split()\n",
        "\n",
        "    # R 채널 증가, G 채널 감소\n",
        "    r = r.point(lambda i: i * (1 + r_perc))\n",
        "    g = g.point(lambda i: i * (1 + g_perc))  # 1 + g_perc 로 변경\n",
        "\n",
        "    # Recombine back to RGB image\n",
        "    result = Image.merge('RGB', (r, g, b))\n",
        "\n",
        "    result.save(f'{fldrOut}/{fn}')\n",
        "    im.close()\n",
        "\n",
        "import glob\n",
        "\n",
        "# Fire 이미지 처리\n",
        "for r_perc, g_perc in itertools.product(color_enhancement_values, repeat=2):\n",
        "    print(f\"Processing Fire images with r_perc={r_perc}, g_perc={g_perc}\")\n",
        "\n",
        "    for data_type in [\"train\", \"val\"]:\n",
        "        fldrIn = f\"data/synthetic/{data_type}/Fire/\"\n",
        "        fldrOut = f\"data/colorEnhanced/{data_type}/Fire_r{r_perc}_g{g_perc}/\"\n",
        "        for fn in glob.glob(fldrIn + \"*.png\"):\n",
        "            fn_trunc = fn.split('/')[-1]\n",
        "            colorEnhancedIm(fldrIn, fn_trunc, fldrOut, r_perc, g_perc)\n",
        "\n",
        "# NoFire 이미지 처리\n",
        "for r_perc, g_perc in itertools.product(color_enhancement_values, repeat=2):\n",
        "    print(f\"Processing NoFire images with r_perc={r_perc}, g_perc={g_perc}\")\n",
        "\n",
        "    for data_type in [\"train\", \"val\"]:\n",
        "        fldrIn = f\"data/synthetic/{data_type}/NoFire/\"\n",
        "        fldrOut = f\"data/colorEnhanced/{data_type}/NoFire_r{r_perc}_g{g_perc}/\"\n",
        "        for fn in glob.glob(fldrIn + \"*.png\"):\n",
        "            fn_trunc = fn.split('/')[-1]\n",
        "            colorEnhancedIm(fldrIn, fn_trunc, fldrOut, r_perc, g_perc)\n",
        "\n",
        "print(\"done\")\n"
      ],
      "metadata": {
        "id": "Gedmr_0Xu44_",
        "colab": {
          "base_uri": "https://localhost:8080/",
          "height": 1000
        },
        "outputId": "a33a5ba9-e5f6-4572-e136-1be037dfa29c"
      },
      "execution_count": 16,
      "outputs": [
        {
          "output_type": "display_data",
          "data": {
            "text/plain": [
              "<IPython.core.display.HTML object>"
            ],
            "text/html": [
              "\n",
              "            <style>\n",
              "                .geemap-dark {\n",
              "                    --jp-widgets-color: white;\n",
              "                    --jp-widgets-label-color: white;\n",
              "                    --jp-ui-font-color1: white;\n",
              "                    --jp-layout-color2: #454545;\n",
              "                    background-color: #383838;\n",
              "                }\n",
              "\n",
              "                .geemap-dark .jupyter-button {\n",
              "                    --jp-layout-color3: #383838;\n",
              "                }\n",
              "\n",
              "                .geemap-colab {\n",
              "                    background-color: var(--colab-primary-surface-color, white);\n",
              "                }\n",
              "\n",
              "                .geemap-colab .jupyter-button {\n",
              "                    --jp-layout-color3: var(--colab-primary-surface-color, white);\n",
              "                }\n",
              "            </style>\n",
              "            "
            ]
          },
          "metadata": {}
        },
        {
          "output_type": "stream",
          "name": "stdout",
          "text": [
            "Processing Fire images with r_perc=-0.15, g_perc=-0.15\n",
            "Processing Fire images with r_perc=-0.15, g_perc=-0.1\n",
            "Processing Fire images with r_perc=-0.15, g_perc=-0.05\n",
            "Processing Fire images with r_perc=-0.15, g_perc=0\n",
            "Processing Fire images with r_perc=-0.15, g_perc=0.05\n",
            "Processing Fire images with r_perc=-0.15, g_perc=0.1\n",
            "Processing Fire images with r_perc=-0.15, g_perc=0.15\n",
            "Processing Fire images with r_perc=-0.1, g_perc=-0.15\n",
            "Processing Fire images with r_perc=-0.1, g_perc=-0.1\n",
            "Processing Fire images with r_perc=-0.1, g_perc=-0.05\n",
            "Processing Fire images with r_perc=-0.1, g_perc=0\n",
            "Processing Fire images with r_perc=-0.1, g_perc=0.05\n",
            "Processing Fire images with r_perc=-0.1, g_perc=0.1\n",
            "Processing Fire images with r_perc=-0.1, g_perc=0.15\n",
            "Processing Fire images with r_perc=-0.05, g_perc=-0.15\n",
            "Processing Fire images with r_perc=-0.05, g_perc=-0.1\n",
            "Processing Fire images with r_perc=-0.05, g_perc=-0.05\n",
            "Processing Fire images with r_perc=-0.05, g_perc=0\n",
            "Processing Fire images with r_perc=-0.05, g_perc=0.05\n",
            "Processing Fire images with r_perc=-0.05, g_perc=0.1\n",
            "Processing Fire images with r_perc=-0.05, g_perc=0.15\n",
            "Processing Fire images with r_perc=0, g_perc=-0.15\n",
            "Processing Fire images with r_perc=0, g_perc=-0.1\n",
            "Processing Fire images with r_perc=0, g_perc=-0.05\n",
            "Processing Fire images with r_perc=0, g_perc=0\n",
            "Processing Fire images with r_perc=0, g_perc=0.05\n",
            "Processing Fire images with r_perc=0, g_perc=0.1\n",
            "Processing Fire images with r_perc=0, g_perc=0.15\n",
            "Processing Fire images with r_perc=0.05, g_perc=-0.15\n",
            "Processing Fire images with r_perc=0.05, g_perc=-0.1\n",
            "Processing Fire images with r_perc=0.05, g_perc=-0.05\n",
            "Processing Fire images with r_perc=0.05, g_perc=0\n",
            "Processing Fire images with r_perc=0.05, g_perc=0.05\n",
            "Processing Fire images with r_perc=0.05, g_perc=0.1\n",
            "Processing Fire images with r_perc=0.05, g_perc=0.15\n",
            "Processing Fire images with r_perc=0.1, g_perc=-0.15\n",
            "Processing Fire images with r_perc=0.1, g_perc=-0.1\n",
            "Processing Fire images with r_perc=0.1, g_perc=-0.05\n",
            "Processing Fire images with r_perc=0.1, g_perc=0\n",
            "Processing Fire images with r_perc=0.1, g_perc=0.05\n",
            "Processing Fire images with r_perc=0.1, g_perc=0.1\n",
            "Processing Fire images with r_perc=0.1, g_perc=0.15\n",
            "Processing Fire images with r_perc=0.15, g_perc=-0.15\n",
            "Processing Fire images with r_perc=0.15, g_perc=-0.1\n",
            "Processing Fire images with r_perc=0.15, g_perc=-0.05\n",
            "Processing Fire images with r_perc=0.15, g_perc=0\n",
            "Processing Fire images with r_perc=0.15, g_perc=0.05\n",
            "Processing Fire images with r_perc=0.15, g_perc=0.1\n",
            "Processing Fire images with r_perc=0.15, g_perc=0.15\n",
            "Processing NoFire images with r_perc=-0.15, g_perc=-0.15\n",
            "Processing NoFire images with r_perc=-0.15, g_perc=-0.1\n",
            "Processing NoFire images with r_perc=-0.15, g_perc=-0.05\n",
            "Processing NoFire images with r_perc=-0.15, g_perc=0\n",
            "Processing NoFire images with r_perc=-0.15, g_perc=0.05\n",
            "Processing NoFire images with r_perc=-0.15, g_perc=0.1\n",
            "Processing NoFire images with r_perc=-0.15, g_perc=0.15\n",
            "Processing NoFire images with r_perc=-0.1, g_perc=-0.15\n",
            "Processing NoFire images with r_perc=-0.1, g_perc=-0.1\n",
            "Processing NoFire images with r_perc=-0.1, g_perc=-0.05\n",
            "Processing NoFire images with r_perc=-0.1, g_perc=0\n",
            "Processing NoFire images with r_perc=-0.1, g_perc=0.05\n",
            "Processing NoFire images with r_perc=-0.1, g_perc=0.1\n",
            "Processing NoFire images with r_perc=-0.1, g_perc=0.15\n",
            "Processing NoFire images with r_perc=-0.05, g_perc=-0.15\n",
            "Processing NoFire images with r_perc=-0.05, g_perc=-0.1\n",
            "Processing NoFire images with r_perc=-0.05, g_perc=-0.05\n",
            "Processing NoFire images with r_perc=-0.05, g_perc=0\n",
            "Processing NoFire images with r_perc=-0.05, g_perc=0.05\n",
            "Processing NoFire images with r_perc=-0.05, g_perc=0.1\n",
            "Processing NoFire images with r_perc=-0.05, g_perc=0.15\n",
            "Processing NoFire images with r_perc=0, g_perc=-0.15\n",
            "Processing NoFire images with r_perc=0, g_perc=-0.1\n",
            "Processing NoFire images with r_perc=0, g_perc=-0.05\n",
            "Processing NoFire images with r_perc=0, g_perc=0\n",
            "Processing NoFire images with r_perc=0, g_perc=0.05\n",
            "Processing NoFire images with r_perc=0, g_perc=0.1\n",
            "Processing NoFire images with r_perc=0, g_perc=0.15\n",
            "Processing NoFire images with r_perc=0.05, g_perc=-0.15\n",
            "Processing NoFire images with r_perc=0.05, g_perc=-0.1\n",
            "Processing NoFire images with r_perc=0.05, g_perc=-0.05\n",
            "Processing NoFire images with r_perc=0.05, g_perc=0\n",
            "Processing NoFire images with r_perc=0.05, g_perc=0.05\n",
            "Processing NoFire images with r_perc=0.05, g_perc=0.1\n",
            "Processing NoFire images with r_perc=0.05, g_perc=0.15\n",
            "Processing NoFire images with r_perc=0.1, g_perc=-0.15\n",
            "Processing NoFire images with r_perc=0.1, g_perc=-0.1\n",
            "Processing NoFire images with r_perc=0.1, g_perc=-0.05\n",
            "Processing NoFire images with r_perc=0.1, g_perc=0\n",
            "Processing NoFire images with r_perc=0.1, g_perc=0.05\n",
            "Processing NoFire images with r_perc=0.1, g_perc=0.1\n",
            "Processing NoFire images with r_perc=0.1, g_perc=0.15\n",
            "Processing NoFire images with r_perc=0.15, g_perc=-0.15\n",
            "Processing NoFire images with r_perc=0.15, g_perc=-0.1\n",
            "Processing NoFire images with r_perc=0.15, g_perc=-0.05\n",
            "Processing NoFire images with r_perc=0.15, g_perc=0\n",
            "Processing NoFire images with r_perc=0.15, g_perc=0.05\n",
            "Processing NoFire images with r_perc=0.15, g_perc=0.1\n",
            "Processing NoFire images with r_perc=0.15, g_perc=0.15\n",
            "done\n"
          ]
        }
      ]
    },
    {
      "cell_type": "code",
      "source": [],
      "metadata": {
        "id": "d08Pio3Vp67N"
      },
      "execution_count": null,
      "outputs": []
    }
  ]
}